{
 "cells": [
  {
   "cell_type": "markdown",
   "metadata": {},
   "source": [
    "# **A Brief History of Neural Networks**"
   ]
  },
  {
   "cell_type": "markdown",
   "metadata": {},
   "source": [
    "Recommended [Jupyter Theme](https://github.com/dunovank/jupyter-themes) for presenting this notebook:\n",
    "````\n",
    "jt -t grade3 -cellw=90% -fs=20 -tfs=20 -ofs=20\n",
    "````"
   ]
  },
  {
   "cell_type": "markdown",
   "metadata": {},
   "source": [
    "First, a few fun discussion questions. "
   ]
  },
  {
   "cell_type": "markdown",
   "metadata": {},
   "source": [
    "---"
   ]
  },
  {
   "cell_type": "markdown",
   "metadata": {},
   "source": [
    "![](../graphics/spacer_small.png)"
   ]
  },
  {
   "cell_type": "markdown",
   "metadata": {},
   "source": [
    "![](../graphics/spacer_small.png)"
   ]
  },
  {
   "cell_type": "markdown",
   "metadata": {},
   "source": [
    "# If you could make an atom-for-atom copy of a brain, would it **think**?"
   ]
  },
  {
   "cell_type": "markdown",
   "metadata": {},
   "source": [
    "![](../graphics/spacer_small.png)"
   ]
  },
  {
   "cell_type": "markdown",
   "metadata": {},
   "source": [
    "![](../graphics/spacer_small.png)"
   ]
  },
  {
   "cell_type": "markdown",
   "metadata": {},
   "source": [
    "---"
   ]
  },
  {
   "cell_type": "markdown",
   "metadata": {},
   "source": [
    "![](../graphics/spacer_small.png)"
   ]
  },
  {
   "cell_type": "markdown",
   "metadata": {},
   "source": [
    "![](../graphics/spacer_small.png)"
   ]
  },
  {
   "cell_type": "markdown",
   "metadata": {},
   "source": [
    "# If you could make an neuron-for-neuron copy of a brain...would it **think**?"
   ]
  },
  {
   "cell_type": "markdown",
   "metadata": {},
   "source": [
    "![](../graphics/spacer_small.png)"
   ]
  },
  {
   "cell_type": "markdown",
   "metadata": {},
   "source": [
    "![](../graphics/spacer_small.png)"
   ]
  },
  {
   "cell_type": "markdown",
   "metadata": {},
   "source": [
    "---"
   ]
  },
  {
   "cell_type": "markdown",
   "metadata": {},
   "source": [
    "![](../graphics/spacer_small.png)"
   ]
  },
  {
   "cell_type": "markdown",
   "metadata": {},
   "source": [
    "![](../graphics/spacer_small.png)"
   ]
  },
  {
   "cell_type": "markdown",
   "metadata": {},
   "source": [
    "# Is it possible to model the way our brains work using **mathematics**?"
   ]
  },
  {
   "cell_type": "markdown",
   "metadata": {},
   "source": [
    "![](../graphics/spacer_small.png)"
   ]
  },
  {
   "cell_type": "markdown",
   "metadata": {},
   "source": [
    "![](../graphics/spacer_small.png)"
   ]
  },
  {
   "cell_type": "markdown",
   "metadata": {},
   "source": [
    "---"
   ]
  },
  {
   "cell_type": "markdown",
   "metadata": {},
   "source": [
    "![](../graphics/spacer_small.png)"
   ]
  },
  {
   "cell_type": "markdown",
   "metadata": {},
   "source": [
    "![](../graphics/spacer_small.png)"
   ]
  },
  {
   "cell_type": "markdown",
   "metadata": {},
   "source": [
    "# Do you think an algorithm will ever be **conscious** in the way a human is?"
   ]
  },
  {
   "cell_type": "markdown",
   "metadata": {},
   "source": [
    "![](../graphics/spacer_small.png)"
   ]
  },
  {
   "cell_type": "markdown",
   "metadata": {},
   "source": [
    "![](../graphics/spacer_small.png)"
   ]
  },
  {
   "cell_type": "markdown",
   "metadata": {},
   "source": [
    "---"
   ]
  },
  {
   "cell_type": "markdown",
   "metadata": {},
   "source": [
    "- These are all fun questions to ponder over a few beers, but are another thing entirely to address with scientific rigor. \n",
    "- In the 1940s, Warren McCulloch and Walter Pitts, inspired by Russel and Whitehead's Pricipia Mathematica, published [A LOGICAL CALCULUS OF THE IDEAS IMMANENT IN NERVOUS ACTIVITY](http://www.cs.cmu.edu/~./epxing/Class/10715/reading/McCulloch.and.Pitts.pdf) - an effort to model the brain in terms of collections of simple mathematics models of neurons. "
   ]
  },
  {
   "cell_type": "markdown",
   "metadata": {},
   "source": [
    "![](../graphics/mcculloch_and_pitts-01.png)"
   ]
  },
  {
   "cell_type": "markdown",
   "metadata": {},
   "source": [
    "- \"Pitts and Mculloch were able to draw striking parallels between the computing powers of both artificial neural networks and Turing machines.\" [Reference 1] This later turned out not to be entirely true - see reference for more details.\n",
    "- Lets look at the mathematical model of the nueron introduced by McCulloch and Pitts:"
   ]
  },
  {
   "cell_type": "markdown",
   "metadata": {},
   "source": [
    "![](../graphics/spacer_small.png)"
   ]
  },
  {
   "cell_type": "markdown",
   "metadata": {},
   "source": [
    "$$\n",
    "f(\\mathbf{x}) = \\begin{cases}1 & \\text{if }\\ \\mathbf{w} \\cdot \\mathbf{x} + b > 0\\\\0 & \\text{otherwise}\\end{cases}\n",
    "$$\n",
    "\n"
   ]
  },
  {
   "cell_type": "markdown",
   "metadata": {},
   "source": [
    "![](../graphics/spacer_small.png)"
   ]
  },
  {
   "cell_type": "markdown",
   "metadata": {},
   "source": [
    "where $\\mathbf{w}$ is a vector of real-valued weights, $\\mathbf{w} \\cdot \\mathbf{x}$ is the dot product $\\sum_{i=1}^m w_i x_i$, where $m$ is the number of inputs and $b$ is the ''bias''."
   ]
  },
  {
   "cell_type": "markdown",
   "metadata": {},
   "source": [
    "![](../graphics/spacer_small.png)"
   ]
  },
  {
   "cell_type": "markdown",
   "metadata": {},
   "source": [
    "![](../graphics/NNQ1-01.png)"
   ]
  },
  {
   "cell_type": "markdown",
   "metadata": {
    "collapsed": true
   },
   "source": [
    "---"
   ]
  },
  {
   "cell_type": "markdown",
   "metadata": {
    "collapsed": true
   },
   "source": [
    "![](../graphics/mcculloch_pitts_nueron-01.png)"
   ]
  },
  {
   "cell_type": "markdown",
   "metadata": {},
   "source": [
    "- Here's a common way to represent Mculloch-Pitts Nueron Models. \n",
    "- It's worth spending some time making sure we understand how these guys work, becuase remarkably, cutting-edge neural networks today use **very similar** models of neurons."
   ]
  },
  {
   "cell_type": "markdown",
   "metadata": {},
   "source": [
    "---"
   ]
  },
  {
   "cell_type": "markdown",
   "metadata": {},
   "source": [
    "- Maybe we'll do these in desk clumps and put answers on the whiteboards:"
   ]
  },
  {
   "cell_type": "markdown",
   "metadata": {},
   "source": [
    "![](../graphics/NNQ2-01.png)"
   ]
  },
  {
   "cell_type": "markdown",
   "metadata": {},
   "source": [
    "---"
   ]
  },
  {
   "cell_type": "markdown",
   "metadata": {},
   "source": [
    "![](../graphics/NNQ3-01.png)"
   ]
  },
  {
   "cell_type": "markdown",
   "metadata": {},
   "source": [
    "---"
   ]
  },
  {
   "cell_type": "markdown",
   "metadata": {},
   "source": [
    "- So, McCulloch and Pitts showed that sets of these nueron models connected in various ways could perform various complex operations.\n",
    "- They did not, however, posit an explanation for **how brains learn.**\n",
    "- Six years after McCulloch and Pitts published [A LOGICAL CALCULUS OF THE IDEAS IMMANENT IN NERVOUS ACTIVITY](http://www.cs.cmu.edu/~./epxing/Class/10715/reading/McCulloch.and.Pitts.pdf), Donold O. Hebb suggested how these models could learn. [Ref 1 and 3]\n",
    "- Hebb proposed that the weights of connections between our neurons change as we learn - specifically that the conductivity of brain synapses changed over time as it was activated by other neurons. \n",
    "- Hebb did not however, propose a method for **programming McCulloch and Pitts's models to learn.**\n",
    "- That innovation would have to wait another 5-7 years."
   ]
  },
  {
   "cell_type": "markdown",
   "metadata": {},
   "source": [
    "![](../graphics/spacer_small.png)"
   ]
  },
  {
   "cell_type": "markdown",
   "metadata": {},
   "source": [
    "---"
   ]
  },
  {
   "cell_type": "markdown",
   "metadata": {},
   "source": [
    "![](../graphics/rosenblatt-01.png)"
   ]
  },
  {
   "cell_type": "markdown",
   "metadata": {},
   "source": [
    "- In the mid 1950s at Cornell's Aeronautical Labratory, Frank Rosenblatt, developed an algorithmic approach to training McCulloch+Pitts style networks. \n",
    "- He first implemented his algorithm on an IBM 704 computer, and then built a physical machine, **The Perceptron**, to implement his algorithm.\n",
    "- Let's see how Rosenblatt's algorithm works."
   ]
  },
  {
   "cell_type": "markdown",
   "metadata": {
    "collapsed": true
   },
   "source": [
    "### **The Perceptron Algorithm**"
   ]
  },
  {
   "cell_type": "markdown",
   "metadata": {},
   "source": [
    "Let's consider the 2 dimensional case, here's some data for us to play with. This example is borrowed from Leslie Valliant's outstanding book, **Probably Approximately Correct**, pages 44-49."
   ]
  },
  {
   "cell_type": "code",
   "execution_count": 1,
   "metadata": {},
   "outputs": [
    {
     "name": "stdout",
     "output_type": "stream",
     "text": [
      "Populating the interactive namespace from numpy and matplotlib\n"
     ]
    }
   ],
   "source": [
    "%pylab inline\n",
    "\n",
    "#Training Data\n",
    "X = np.array([[4, 1],\n",
    "              [1, 2],\n",
    "              [5, 1],\n",
    "              [3, 2],\n",
    "              [5, 2],\n",
    "              [4, 3]])"
   ]
  },
  {
   "cell_type": "code",
   "execution_count": 2,
   "metadata": {
    "collapsed": true
   },
   "outputs": [],
   "source": [
    "#Labels\n",
    "y = np.array([1, 0, 1, 0, 1, 0])"
   ]
  },
  {
   "cell_type": "code",
   "execution_count": 3,
   "metadata": {},
   "outputs": [
    {
     "data": {
      "image/png": "[encoded data removed]",
      "text/plain": [
       "<matplotlib.figure.Figure at 0x10ff37550>"
      ]
     },
     "metadata": {},
     "output_type": "display_data"
    }
   ],
   "source": [
    "fig = figure(0, (8,6))\n",
    "scatter(X[:,0], X[:,1], c = y, s = 75)\n",
    "xlabel('$x_1$', fontsize = 20)\n",
    "ylabel('$x_2$', fontsize = 20)\n",
    "xlim([0, 6]); ylim([0, 4])\n",
    "grid(1)"
   ]
  },
  {
   "cell_type": "markdown",
   "metadata": {},
   "source": [
    "Now, let's see how Frank Rosenblatt's perceptron machine would learn to classify this data. Remember that our neuron model from McCulloch + Pitts: \n",
    "\n"
   ]
  },
  {
   "cell_type": "markdown",
   "metadata": {},
   "source": [
    "![](../graphics/spacer_small.png)"
   ]
  },
  {
   "cell_type": "markdown",
   "metadata": {},
   "source": [
    "$$\n",
    "f(\\mathbf{x}) = \\begin{cases}1 & \\text{if }\\ \\mathbf{w} \\cdot \\mathbf{x} + b > 0\\\\0 & \\text{otherwise}\\end{cases}\n",
    "$$"
   ]
  },
  {
   "cell_type": "markdown",
   "metadata": {},
   "source": [
    "In our 2 dimensional case this would be:"
   ]
  },
  {
   "cell_type": "markdown",
   "metadata": {},
   "source": [
    "![](../graphics/spacer_small.png)"
   ]
  },
  {
   "cell_type": "markdown",
   "metadata": {},
   "source": [
    "$$\n",
    "f(x_1, x_2) = \\begin{cases}1 & \\text{if }\\ w_1 x_1 + w_2 x_2 + b > 0\\\\0 & \\text{otherwise}\\end{cases}\n",
    "$$"
   ]
  },
  {
   "cell_type": "markdown",
   "metadata": {},
   "source": [
    "![](../graphics/spacer_small.png)"
   ]
  },
  {
   "cell_type": "markdown",
   "metadata": {},
   "source": [
    "- So our goal here then is for $w_1 x_1 + w_2 x_2 + b > 0$ for our positive examples, and $w_1 x_1 + w_2 x_2 + b < 0$ for our negative examples. \n",
    "- First, let's make a bit of a variable change. \n",
    "- It will be easier to get Rosenblatt's equation working if $b=0$. \n",
    "- We can achieve this, without losing any generality, by swapping our 2d problem for a 3d problem, where we append a 1 to each of our examples, like this:"
   ]
  },
  {
   "cell_type": "code",
   "execution_count": 4,
   "metadata": {
    "collapsed": true
   },
   "outputs": [],
   "source": [
    "#Careful, just run this once!\n",
    "X = np.hstack((X, np.ones((X.shape[0], 1))))"
   ]
  },
  {
   "cell_type": "code",
   "execution_count": 5,
   "metadata": {},
   "outputs": [
    {
     "data": {
      "text/plain": [
       "array([[4., 1., 1.],\n",
       "       [1., 2., 1.],\n",
       "       [5., 1., 1.],\n",
       "       [3., 2., 1.],\n",
       "       [5., 2., 1.],\n",
       "       [4., 3., 1.]])"
      ]
     },
     "execution_count": 5,
     "metadata": {},
     "output_type": "execute_result"
    }
   ],
   "source": [
    "X"
   ]
  },
  {
   "cell_type": "markdown",
   "metadata": {},
   "source": [
    "- So, we've appended a 1 to each of our examples, and are now going to try to solve this (equivalent) equation instead:"
   ]
  },
  {
   "cell_type": "markdown",
   "metadata": {},
   "source": [
    "![](../graphics/spacer_small.png)"
   ]
  },
  {
   "cell_type": "markdown",
   "metadata": {},
   "source": [
    "$$\n",
    "f(x_1, x_2) = \\begin{cases}1 & \\text{if }\\ w_1 x_1 + w_2 x_2 + w_3 x_3 > 0\\\\0 & \\text{otherwise}\\end{cases}\n",
    "$$"
   ]
  },
  {
   "cell_type": "markdown",
   "metadata": {},
   "source": [
    "![](../graphics/spacer_small.png)"
   ]
  },
  {
   "cell_type": "markdown",
   "metadata": {},
   "source": [
    "- Where $b = w_3$.\n",
    "- Can you see *why* this equation is equivalent to our original 2-d case?\n",
    "- From here, the perceptron algorithm is simple! \n",
    "- First, let's write a quick method to wrap up our neuron model:\n",
    "\n"
   ]
  },
  {
   "cell_type": "code",
   "execution_count": 6,
   "metadata": {
    "collapsed": true
   },
   "outputs": [],
   "source": [
    "def neuron(x, w):\n",
    "    '''Simple McCulloch-Pitts Neuron model, x and w and are numpy arrays of the same shape'''\n",
    "    return np.dot(x, w) > 0"
   ]
  },
  {
   "cell_type": "markdown",
   "metadata": {},
   "source": [
    "- Next, we'll initialize our model with weights of zero:"
   ]
  },
  {
   "cell_type": "code",
   "execution_count": 7,
   "metadata": {
    "collapsed": true
   },
   "outputs": [],
   "source": [
    "w = np.zeros(3)"
   ]
  },
  {
   "cell_type": "code",
   "execution_count": 8,
   "metadata": {},
   "outputs": [
    {
     "data": {
      "text/plain": [
       "array([0., 0., 0.])"
      ]
     },
     "execution_count": 8,
     "metadata": {},
     "output_type": "execute_result"
    }
   ],
   "source": [
    "w"
   ]
  },
  {
   "cell_type": "markdown",
   "metadata": {},
   "source": [
    "- Then we'll iterate through our examples one at a time:"
   ]
  },
  {
   "cell_type": "code",
   "execution_count": 9,
   "metadata": {},
   "outputs": [
    {
     "data": {
      "text/plain": [
       "array([4., 1., 1.])"
      ]
     },
     "execution_count": 9,
     "metadata": {},
     "output_type": "execute_result"
    }
   ],
   "source": [
    "i = 0\n",
    "X[i, :]"
   ]
  },
  {
   "cell_type": "markdown",
   "metadata": {},
   "source": [
    "- For each example, check if our classification is correct:"
   ]
  },
  {
   "cell_type": "code",
   "execution_count": 10,
   "metadata": {},
   "outputs": [
    {
     "data": {
      "text/plain": [
       "1"
      ]
     },
     "execution_count": 10,
     "metadata": {},
     "output_type": "execute_result"
    }
   ],
   "source": [
    "y[i]"
   ]
  },
  {
   "cell_type": "code",
   "execution_count": 11,
   "metadata": {},
   "outputs": [
    {
     "data": {
      "text/plain": [
       "False"
      ]
     },
     "execution_count": 11,
     "metadata": {},
     "output_type": "execute_result"
    }
   ],
   "source": [
    "neuron(X[i, :], w)"
   ]
  },
  {
   "cell_type": "markdown",
   "metadata": {},
   "source": [
    "- In this case, our classification was incorrect. The idea behind the perceptron algorithm is to update our weights to make our nueron more likely to correctly classify our example next time. The output of $w_1 x_1 + w_2 x_2 + w_3 x_3$ was too small in this case. The Perceptron algorithm tells us to increase the weights by adding the our example values to our weights, like this:"
   ]
  },
  {
   "cell_type": "code",
   "execution_count": 12,
   "metadata": {
    "collapsed": true
   },
   "outputs": [],
   "source": [
    "w = w + X[i, :]"
   ]
  },
  {
   "cell_type": "code",
   "execution_count": 13,
   "metadata": {},
   "outputs": [
    {
     "data": {
      "text/plain": [
       "array([4., 1., 1.])"
      ]
     },
     "execution_count": 13,
     "metadata": {},
     "output_type": "execute_result"
    }
   ],
   "source": [
    "w"
   ]
  },
  {
   "cell_type": "markdown",
   "metadata": {},
   "source": [
    "- Let's move on to our next example: "
   ]
  },
  {
   "cell_type": "code",
   "execution_count": 14,
   "metadata": {},
   "outputs": [
    {
     "data": {
      "text/plain": [
       "array([1., 2., 1.])"
      ]
     },
     "execution_count": 14,
     "metadata": {},
     "output_type": "execute_result"
    }
   ],
   "source": [
    "i = 1\n",
    "X[i, :]"
   ]
  },
  {
   "cell_type": "code",
   "execution_count": 15,
   "metadata": {},
   "outputs": [
    {
     "data": {
      "text/plain": [
       "0"
      ]
     },
     "execution_count": 15,
     "metadata": {},
     "output_type": "execute_result"
    }
   ],
   "source": [
    "y[i]"
   ]
  },
  {
   "cell_type": "code",
   "execution_count": 16,
   "metadata": {},
   "outputs": [
    {
     "data": {
      "text/plain": [
       "True"
      ]
     },
     "execution_count": 16,
     "metadata": {},
     "output_type": "execute_result"
    }
   ],
   "source": [
    "neuron(X[i, :], w)"
   ]
  },
  {
   "cell_type": "markdown",
   "metadata": {},
   "source": [
    "**Wrong again!** But this time $w_1 x_1 + w_2 x_2 + w_3 x_3$ was too large! As you may have guessed, we need to update our weights by subtracting our example values. "
   ]
  },
  {
   "cell_type": "code",
   "execution_count": 17,
   "metadata": {
    "collapsed": true
   },
   "outputs": [],
   "source": [
    "w = w - X[i, :]"
   ]
  },
  {
   "cell_type": "code",
   "execution_count": 18,
   "metadata": {},
   "outputs": [
    {
     "data": {
      "text/plain": [
       "array([ 3., -1.,  0.])"
      ]
     },
     "execution_count": 18,
     "metadata": {},
     "output_type": "execute_result"
    }
   ],
   "source": [
    "w"
   ]
  },
  {
   "cell_type": "markdown",
   "metadata": {},
   "source": [
    "Let's check out one more example:"
   ]
  },
  {
   "cell_type": "code",
   "execution_count": 19,
   "metadata": {},
   "outputs": [
    {
     "data": {
      "text/plain": [
       "array([5., 1., 1.])"
      ]
     },
     "execution_count": 19,
     "metadata": {},
     "output_type": "execute_result"
    }
   ],
   "source": [
    "i = 2\n",
    "X[i, :]"
   ]
  },
  {
   "cell_type": "code",
   "execution_count": 20,
   "metadata": {},
   "outputs": [
    {
     "data": {
      "text/plain": [
       "1"
      ]
     },
     "execution_count": 20,
     "metadata": {},
     "output_type": "execute_result"
    }
   ],
   "source": [
    "y[i]"
   ]
  },
  {
   "cell_type": "code",
   "execution_count": 21,
   "metadata": {},
   "outputs": [
    {
     "data": {
      "text/plain": [
       "True"
      ]
     },
     "execution_count": 21,
     "metadata": {},
     "output_type": "execute_result"
    }
   ],
   "source": [
    "neuron(X[i, :], w)"
   ]
  },
  {
   "cell_type": "markdown",
   "metadata": {},
   "source": [
    "- This one worked! When our neuron is correct, the perceptron algorithm tells us to to leave our weights alone.\n",
    "- Alright, let's put this all together into the perceptron algorithm!\n",
    "- It would be cool to visualize our performance as we go, so let's write a few functions to help:"
   ]
  },
  {
   "cell_type": "code",
   "execution_count": 22,
   "metadata": {
    "collapsed": true
   },
   "outputs": [],
   "source": [
    "def update_nueron(w, x, label):\n",
    "    '''\n",
    "    Update McCulloch + Pitts Nueron using Rosenblatt's Perceptron Algorithms\n",
    "    w = neuron weights\n",
    "    x = (n dimensional numpy array example)\n",
    "    label = binary label\n",
    "    '''\n",
    "    if neuron(x, w) == 0 and label == 1:\n",
    "        w = w + x\n",
    "        print('incorrect!, New weights = ' + str(w))\n",
    "\n",
    "    elif neuron(x, w) == 1 and label == 0:\n",
    "        w = w - x\n",
    "        print('incorrect!, New weights = ' + str(w))\n",
    "\n",
    "    else:\n",
    "        print('correct!')  \n",
    "    \n",
    "    return w"
   ]
  },
  {
   "cell_type": "markdown",
   "metadata": {},
   "source": [
    "- It will be **even cooler** if we can visualize our decision boundary as the algorithm advances."
   ]
  },
  {
   "cell_type": "code",
   "execution_count": 23,
   "metadata": {
    "collapsed": true
   },
   "outputs": [],
   "source": [
    "def plot_decision_boundary(X, y, w, i):\n",
    "    x1s = np.arange(7)\n",
    "    x2s = (-w[2]-w[0]*x1s)/w[1]\n",
    "\n",
    "    fig = figure(0, (8,6))\n",
    "    #Scatter data\n",
    "    scatter(X[:,0], X[:,1], c = y, s = 75)\n",
    "    scatter(X[i,0], X[i,1], c = 'r', s = 75)\n",
    "    #Plot decision boundary\n",
    "    plot(x1s, x2s)\n",
    "\n",
    "    xlabel('$x_1$', fontsize = 20)\n",
    "    ylabel('$x_2$', fontsize = 20)\n",
    "    grid(1)"
   ]
  },
  {
   "cell_type": "code",
   "execution_count": 24,
   "metadata": {
    "collapsed": true
   },
   "outputs": [],
   "source": [
    "#Initialize Weights to zero:\n",
    "w = np.zeros(3)\n",
    "\n",
    "#Start on 0th example:\n",
    "i = 0"
   ]
  },
  {
   "cell_type": "code",
   "execution_count": 25,
   "metadata": {},
   "outputs": [
    {
     "name": "stdout",
     "output_type": "stream",
     "text": [
      "incorrect!, New weights = [4. 1. 1.]\n"
     ]
    },
    {
     "data": {
      "image/png": "[encoded data removed]",
      "text/plain": [
       "<matplotlib.figure.Figure at 0x11040fb38>"
      ]
     },
     "metadata": {},
     "output_type": "display_data"
    }
   ],
   "source": [
    "#Run this cell multiple times to iterate through perceptron algorithm.\n",
    "w = update_nueron(w, X[i, :], y[i])\n",
    "\n",
    "#plot decision boundary and examples\n",
    "plot_decision_boundary(X, y, w, i)\n",
    "\n",
    "#Increment counter, startover when we reach the end of examples\n",
    "i = (i+1)%X.shape[0] "
   ]
  },
  {
   "cell_type": "markdown",
   "metadata": {},
   "source": [
    "![](../graphics/spacer_small.png)"
   ]
  },
  {
   "cell_type": "markdown",
   "metadata": {},
   "source": [
    "![](../graphics/spacer_small.png)"
   ]
  },
  {
   "cell_type": "markdown",
   "metadata": {
    "collapsed": true
   },
   "source": [
    "- If we run our algorithm long enough...something pretty cool happens!\n",
    "- Eventually, it arrives at a set of weights that get all of our example right!\n",
    "- So, in this example, our perceptron algorithm **learned** a set of weights for our McCulloch + Pitts nueron that correctly classified all our examples! Here they are:"
   ]
  },
  {
   "cell_type": "code",
   "execution_count": 26,
   "metadata": {},
   "outputs": [
    {
     "data": {
      "text/plain": [
       "array([4., 1., 1.])"
      ]
     },
     "execution_count": 26,
     "metadata": {},
     "output_type": "execute_result"
    }
   ],
   "source": [
    "w"
   ]
  },
  {
   "cell_type": "markdown",
   "metadata": {},
   "source": [
    "This leads us to an important question:"
   ]
  },
  {
   "cell_type": "markdown",
   "metadata": {},
   "source": [
    "![](../graphics/spacer_small.png)"
   ]
  },
  {
   "cell_type": "markdown",
   "metadata": {},
   "source": [
    "---"
   ]
  },
  {
   "cell_type": "markdown",
   "metadata": {},
   "source": [
    "![](../graphics/NNQ4-01.png)"
   ]
  },
  {
   "cell_type": "markdown",
   "metadata": {},
   "source": [
    "---"
   ]
  },
  {
   "cell_type": "markdown",
   "metadata": {},
   "source": [
    "![](../graphics/spacer_small.png)"
   ]
  },
  {
   "cell_type": "markdown",
   "metadata": {},
   "source": [
    "Let's find out!"
   ]
  },
  {
   "cell_type": "markdown",
   "metadata": {
    "collapsed": true
   },
   "source": [
    "![](../videos/perceptron_1.gif)"
   ]
  },
  {
   "cell_type": "markdown",
   "metadata": {
    "collapsed": true
   },
   "source": [
    "*\"The interesting fact about the perceptron algorithm is that, in spite of our lack of control over its exact fate as we let it loose on arbitrary data, it nonetheless manages to acheive something quite remarkable. The most basic statement of the power of this algorithm, proved by Albert Novikoff soon after the algorithm was first proposed, is that if there is a true linear seperator, then the algrorithm is sure to find it, or another hypothesis that also correctly classifies all the examples, after having made misclassifications only a finite number of times.\"*\n",
    "- Leslie Valliant in Probably Approximately Correct, p. 47"
   ]
  },
  {
   "cell_type": "markdown",
   "metadata": {
    "collapsed": true
   },
   "source": [
    "---"
   ]
  },
  {
   "cell_type": "markdown",
   "metadata": {
    "collapsed": true
   },
   "source": [
    "- The [upper bound found by Albert Novikoff](https://cs.uwaterloo.ca/~y328yu/classics/novikoff.pdf) is $M/n^2$, where $M$ is the square of the distance of the furthest data point in the training set from the origin, and m is the margin. The margin is the minimum distance of any data point from the seperating line for which the line this distance is largest. \n",
    "- This is a remarkable result!\n",
    "- Importantly, this is true for not just 2 dimensional data, but **data of any dimension!**\n",
    "- *\"Learning is achieved in many steps that are plausible but unnocuous when viewed one by one in isolation. These steps work becuase there is an overall algorithmic plan. In combination the steps achieve something, in particular, some kind of convergence.\"*\n",
    "    - Leslie Valliant in Probably Approximately Correct, p. 49\n",
    "- Rosenblatt's perceptron machine had an array of 400 photocells, (probably?) arranged in a 20x20 grid.\n",
    "- Here's a figure from this [Principles of NeuroDynamics](http://www.dtic.mil/dtic/tr/fulltext/u2/256582.pdf):\n"
   ]
  },
  {
   "cell_type": "markdown",
   "metadata": {
    "collapsed": true
   },
   "source": [
    "![](../graphics/rosenblatts_perceptron.png)"
   ]
  },
  {
   "cell_type": "markdown",
   "metadata": {},
   "source": [
    "---"
   ]
  },
  {
   "cell_type": "markdown",
   "metadata": {},
   "source": [
    "## Let's try out Rosenblatt's Perceptron on some basic synthetic images!"
   ]
  },
  {
   "cell_type": "markdown",
   "metadata": {},
   "source": [
    "![](../graphics/spacer_small.png)"
   ]
  },
  {
   "cell_type": "markdown",
   "metadata": {
    "collapsed": true
   },
   "source": [
    "![](../graphics/NNQ5-01.png)"
   ]
  },
  {
   "cell_type": "markdown",
   "metadata": {
    "collapsed": true
   },
   "source": [
    "___"
   ]
  },
  {
   "cell_type": "markdown",
   "metadata": {
    "collapsed": true
   },
   "source": [
    "## Let's try it!"
   ]
  },
  {
   "cell_type": "code",
   "execution_count": 27,
   "metadata": {},
   "outputs": [],
   "source": [
    "sys.path.append('../util')\n",
    "from synthetic import make_synthetic_ball, make_synthetic_brick, make_random_balls, make_random_bricks"
   ]
  },
  {
   "cell_type": "code",
   "execution_count": 28,
   "metadata": {
    "collapsed": true
   },
   "outputs": [],
   "source": [
    "width = 16\n",
    "height = 8\n",
    "shift_x = 2\n",
    "shift_y = 6\n",
    "im_shape = (20, 20)\n",
    "\n",
    "brick = make_synthetic_brick(im_shape, width, height, shift_x, shift_y)"
   ]
  },
  {
   "cell_type": "code",
   "execution_count": 29,
   "metadata": {},
   "outputs": [
    {
     "data": {
      "text/plain": [
       "<matplotlib.colorbar.Colorbar at 0x110fe54e0>"
      ]
     },
     "execution_count": 29,
     "metadata": {},
     "output_type": "execute_result"
    },
    {
     "data": {
      "image/png": "[encoded data removed]",
      "text/plain": [
       "<matplotlib.figure.Figure at 0x110d80e80>"
      ]
     },
     "metadata": {},
     "output_type": "display_data"
    }
   ],
   "source": [
    "imshow(brick, cmap = 'gray')\n",
    "colorbar()"
   ]
  },
  {
   "cell_type": "code",
   "execution_count": 30,
   "metadata": {
    "collapsed": true
   },
   "outputs": [],
   "source": [
    "center = (9.5, 9.5)\n",
    "radius = 7\n",
    "\n",
    "ball = make_synthetic_ball(im_shape, center, radius)"
   ]
  },
  {
   "cell_type": "code",
   "execution_count": 31,
   "metadata": {},
   "outputs": [
    {
     "data": {
      "text/plain": [
       "<matplotlib.colorbar.Colorbar at 0x111157a90>"
      ]
     },
     "execution_count": 31,
     "metadata": {},
     "output_type": "execute_result"
    },
    {
     "data": {
      "image/png": "[encoded data removed]",
      "text/plain": [
       "<matplotlib.figure.Figure at 0x110ec2dd8>"
      ]
     },
     "metadata": {},
     "output_type": "display_data"
    }
   ],
   "source": [
    "imshow(ball, cmap = 'gray')\n",
    "colorbar()"
   ]
  },
  {
   "cell_type": "code",
   "execution_count": 32,
   "metadata": {
    "collapsed": true
   },
   "outputs": [],
   "source": [
    "X = np.vstack((brick.ravel(), ball.ravel()))\n",
    "y = np.array([0, 1])"
   ]
  },
  {
   "cell_type": "code",
   "execution_count": 33,
   "metadata": {},
   "outputs": [
    {
     "name": "stdout",
     "output_type": "stream",
     "text": [
      "(2, 400) (2,)\n"
     ]
    }
   ],
   "source": [
    "print(X.shape, y.shape)"
   ]
  },
  {
   "cell_type": "code",
   "execution_count": 34,
   "metadata": {
    "collapsed": true
   },
   "outputs": [],
   "source": [
    "X = np.hstack((X, np.ones((X.shape[0], 1))))\n",
    "\n",
    "#Initialize Weights to zero:\n",
    "w = np.zeros(X.shape[1])"
   ]
  },
  {
   "cell_type": "code",
   "execution_count": 35,
   "metadata": {
    "scrolled": true
   },
   "outputs": [
    {
     "name": "stdout",
     "output_type": "stream",
     "text": [
      "correct!\n",
      "incorrect!, New weights = [0. 0. 0. 0. 0. 0. 0. 0. 0. 0. 0. 0. 0. 0. 0. 0. 0. 0. 0. 0. 0. 0. 0. 0.\n",
      " 0. 0. 0. 0. 0. 0. 0. 0. 0. 0. 0. 0. 0. 0. 0. 0. 0. 0. 0. 0. 0. 0. 0. 0.\n",
      " 0. 0. 0. 0. 0. 0. 0. 0. 0. 0. 0. 0. 0. 0. 0. 0. 0. 0. 0. 1. 1. 1. 1. 1.\n",
      " 1. 0. 0. 0. 0. 0. 0. 0. 0. 0. 0. 0. 0. 0. 1. 1. 1. 1. 1. 1. 1. 1. 0. 0.\n",
      " 0. 0. 0. 0. 0. 0. 0. 0. 0. 1. 1. 1. 1. 1. 1. 1. 1. 1. 1. 0. 0. 0. 0. 0.\n",
      " 0. 0. 0. 0. 1. 1. 1. 1. 1. 1. 1. 1. 1. 1. 1. 1. 0. 0. 0. 0. 0. 0. 0. 1.\n",
      " 1. 1. 1. 1. 1. 1. 1. 1. 1. 1. 1. 1. 1. 0. 0. 0. 0. 0. 0. 1. 1. 1. 1. 1.\n",
      " 1. 1. 1. 1. 1. 1. 1. 1. 1. 0. 0. 0. 0. 0. 0. 1. 1. 1. 1. 1. 1. 1. 1. 1.\n",
      " 1. 1. 1. 1. 1. 0. 0. 0. 0. 0. 0. 1. 1. 1. 1. 1. 1. 1. 1. 1. 1. 1. 1. 1.\n",
      " 1. 0. 0. 0. 0. 0. 0. 1. 1. 1. 1. 1. 1. 1. 1. 1. 1. 1. 1. 1. 1. 0. 0. 0.\n",
      " 0. 0. 0. 1. 1. 1. 1. 1. 1. 1. 1. 1. 1. 1. 1. 1. 1. 0. 0. 0. 0. 0. 0. 0.\n",
      " 1. 1. 1. 1. 1. 1. 1. 1. 1. 1. 1. 1. 0. 0. 0. 0. 0. 0. 0. 0. 0. 1. 1. 1.\n",
      " 1. 1. 1. 1. 1. 1. 1. 0. 0. 0. 0. 0. 0. 0. 0. 0. 0. 0. 1. 1. 1. 1. 1. 1.\n",
      " 1. 1. 0. 0. 0. 0. 0. 0. 0. 0. 0. 0. 0. 0. 0. 1. 1. 1. 1. 1. 1. 0. 0. 0.\n",
      " 0. 0. 0. 0. 0. 0. 0. 0. 0. 0. 0. 0. 0. 0. 0. 0. 0. 0. 0. 0. 0. 0. 0. 0.\n",
      " 0. 0. 0. 0. 0. 0. 0. 0. 0. 0. 0. 0. 0. 0. 0. 0. 0. 0. 0. 0. 0. 0. 0. 0.\n",
      " 0. 0. 0. 0. 0. 0. 0. 0. 0. 0. 0. 0. 0. 0. 0. 0. 1.]\n",
      "incorrect!, New weights = [ 0.  0.  0.  0.  0.  0.  0.  0.  0.  0.  0.  0.  0.  0.  0.  0.  0.  0.\n",
      "  0.  0.  0.  0.  0.  0.  0.  0.  0.  0.  0.  0.  0.  0.  0.  0.  0.  0.\n",
      "  0.  0.  0.  0.  0.  0.  0.  0.  0.  0.  0.  0.  0.  0.  0.  0.  0.  0.\n",
      "  0.  0.  0.  0.  0.  0.  0.  0.  0.  0.  0.  0.  0.  1.  1.  1.  1.  1.\n",
      "  1.  0.  0.  0.  0.  0.  0.  0.  0.  0.  0.  0.  0.  0.  1.  1.  1.  1.\n",
      "  1.  1.  1.  1.  0.  0.  0.  0.  0.  0.  0.  0.  0.  0.  0.  1.  1.  1.\n",
      "  1.  1.  1.  1.  1.  1.  1.  0.  0.  0.  0.  0.  0.  0. -1. -1.  0.  0.\n",
      "  0.  0.  0.  0.  0.  0.  0.  0.  0.  0. -1. -1.  0.  0.  0.  0. -1.  0.\n",
      "  0.  0.  0.  0.  0.  0.  0.  0.  0.  0.  0.  0.  0. -1.  0.  0.  0.  0.\n",
      " -1.  0.  0.  0.  0.  0.  0.  0.  0.  0.  0.  0.  0.  0.  0. -1.  0.  0.\n",
      "  0.  0. -1.  0.  0.  0.  0.  0.  0.  0.  0.  0.  0.  0.  0.  0.  0. -1.\n",
      "  0.  0.  0.  0. -1.  0.  0.  0.  0.  0.  0.  0.  0.  0.  0.  0.  0.  0.\n",
      "  0. -1.  0.  0.  0.  0. -1.  0.  0.  0.  0.  0.  0.  0.  0.  0.  0.  0.\n",
      "  0.  0.  0. -1.  0.  0.  0.  0. -1.  0.  0.  0.  0.  0.  0.  0.  0.  0.\n",
      "  0.  0.  0.  0.  0. -1.  0.  0.  0.  0. -1. -1.  0.  0.  0.  0.  0.  0.\n",
      "  0.  0.  0.  0.  0.  0. -1. -1.  0.  0.  0.  0.  0.  0.  0.  1.  1.  1.\n",
      "  1.  1.  1.  1.  1.  1.  1.  0.  0.  0.  0.  0.  0.  0.  0.  0.  0.  0.\n",
      "  1.  1.  1.  1.  1.  1.  1.  1.  0.  0.  0.  0.  0.  0.  0.  0.  0.  0.\n",
      "  0.  0.  0.  1.  1.  1.  1.  1.  1.  0.  0.  0.  0.  0.  0.  0.  0.  0.\n",
      "  0.  0.  0.  0.  0.  0.  0.  0.  0.  0.  0.  0.  0.  0.  0.  0.  0.  0.\n",
      "  0.  0.  0.  0.  0.  0.  0.  0.  0.  0.  0.  0.  0.  0.  0.  0.  0.  0.\n",
      "  0.  0.  0.  0.  0.  0.  0.  0.  0.  0.  0.  0.  0.  0.  0.  0.  0.  0.\n",
      "  0.  0.  0.  0.  0.]\n",
      "correct!\n",
      "correct!\n",
      "correct!\n",
      "correct!\n",
      "correct!\n",
      "correct!\n",
      "correct!\n",
      "correct!\n",
      "correct!\n",
      "correct!\n",
      "correct!\n",
      "correct!\n",
      "correct!\n",
      "correct!\n",
      "correct!\n",
      "correct!\n",
      "correct!\n",
      "correct!\n",
      "correct!\n",
      "correct!\n",
      "correct!\n",
      "correct!\n"
     ]
    }
   ],
   "source": [
    "for i in range(25):\n",
    "    w = update_nueron(w, X[i%X.shape[0], :], y[i%X.shape[0]])"
   ]
  },
  {
   "cell_type": "markdown",
   "metadata": {
    "collapsed": true
   },
   "source": [
    "---"
   ]
  },
  {
   "cell_type": "markdown",
   "metadata": {
    "collapsed": true
   },
   "source": [
    "...Ok, let's up the ante."
   ]
  },
  {
   "cell_type": "markdown",
   "metadata": {},
   "source": [
    "![](../graphics/NNQ6-01.png)"
   ]
  },
  {
   "cell_type": "markdown",
   "metadata": {},
   "source": [
    "---"
   ]
  },
  {
   "cell_type": "code",
   "execution_count": 36,
   "metadata": {
    "collapsed": true
   },
   "outputs": [],
   "source": [
    "num_examples = 9\n",
    "im_shape = (20, 20)"
   ]
  },
  {
   "cell_type": "code",
   "execution_count": 37,
   "metadata": {},
   "outputs": [
    {
     "data": {
      "image/png": "[encoded data removed]",
      "text/plain": [
       "<matplotlib.figure.Figure at 0x111131630>"
      ]
     },
     "metadata": {},
     "output_type": "display_data"
    }
   ],
   "source": [
    "bricks = make_random_bricks(num_bricks=num_examples, im_shape = im_shape)\n",
    "\n",
    "fig = figure(0, (12,12))\n",
    "for i, brick in enumerate(bricks):\n",
    "    if i < 9:\n",
    "        fig.add_subplot(3, 3, i + 1)\n",
    "        imshow(brick, cmap = 'gray')"
   ]
  },
  {
   "cell_type": "code",
   "execution_count": 38,
   "metadata": {},
   "outputs": [
    {
     "data": {
      "image/png": "[encoded data removed]",
      "text/plain": [
       "<matplotlib.figure.Figure at 0x1110539b0>"
      ]
     },
     "metadata": {},
     "output_type": "display_data"
    }
   ],
   "source": [
    "balls = make_random_balls(num_balls = num_examples, im_shape = im_shape)\n",
    "\n",
    "fig = figure(0, (12,12))\n",
    "for i, ball in enumerate(balls):\n",
    "    if i < 9:\n",
    "        fig.add_subplot(3, 3, i + 1)\n",
    "        imshow(ball, cmap = 'gray')"
   ]
  },
  {
   "cell_type": "code",
   "execution_count": 39,
   "metadata": {
    "collapsed": true
   },
   "outputs": [],
   "source": [
    "X = np.array(bricks).reshape(-1, im_shape[0]*im_shape[1])\n",
    "X = np.vstack((X, np.array(balls).reshape(-1, im_shape[0]*im_shape[1])))\n",
    "\n",
    "y = np.zeros(X.shape[0])\n",
    "y[len(bricks):] = 1.0"
   ]
  },
  {
   "cell_type": "code",
   "execution_count": 40,
   "metadata": {},
   "outputs": [
    {
     "name": "stdout",
     "output_type": "stream",
     "text": [
      "(18, 400) (18,)\n"
     ]
    }
   ],
   "source": [
    "print(X.shape, y.shape)"
   ]
  },
  {
   "cell_type": "code",
   "execution_count": 41,
   "metadata": {},
   "outputs": [
    {
     "data": {
      "text/plain": [
       "array([0., 0., 0., 0., 0., 0., 0., 0., 0., 1., 1., 1., 1., 1., 1., 1., 1.,\n",
       "       1.])"
      ]
     },
     "execution_count": 41,
     "metadata": {},
     "output_type": "execute_result"
    }
   ],
   "source": [
    "y"
   ]
  },
  {
   "cell_type": "code",
   "execution_count": 42,
   "metadata": {
    "collapsed": true
   },
   "outputs": [],
   "source": [
    "#Only run once!\n",
    "X = np.hstack((X, np.ones((X.shape[0], 1))))\n",
    "\n",
    "#Initialize Weights to zero:\n",
    "w = np.zeros(X.shape[1])"
   ]
  },
  {
   "cell_type": "code",
   "execution_count": 43,
   "metadata": {},
   "outputs": [
    {
     "name": "stdout",
     "output_type": "stream",
     "text": [
      "correct!\n",
      "correct!\n",
      "correct!\n",
      "correct!\n",
      "correct!\n",
      "correct!\n",
      "correct!\n",
      "correct!\n",
      "correct!\n",
      "incorrect!, New weights = [0. 0. 0. 0. 0. 0. 0. 0. 0. 0. 0. 0. 0. 0. 0. 0. 0. 0. 0. 0. 0. 0. 0. 0.\n",
      " 0. 0. 0. 0. 0. 0. 0. 0. 0. 0. 0. 0. 0. 0. 0. 0. 0. 0. 0. 0. 0. 0. 0. 0.\n",
      " 0. 0. 0. 0. 0. 0. 0. 0. 0. 0. 0. 0. 0. 0. 0. 0. 0. 0. 0. 0. 0. 0. 0. 0.\n",
      " 0. 0. 0. 0. 0. 0. 0. 0. 0. 0. 0. 0. 0. 0. 0. 0. 0. 0. 0. 0. 0. 0. 0. 0.\n",
      " 0. 0. 0. 0. 0. 0. 0. 0. 0. 0. 0. 0. 0. 0. 0. 0. 0. 0. 0. 0. 0. 0. 0. 0.\n",
      " 0. 0. 0. 0. 0. 0. 0. 0. 0. 0. 0. 0. 0. 0. 0. 0. 0. 0. 0. 0. 0. 0. 0. 0.\n",
      " 0. 0. 0. 0. 0. 0. 1. 0. 0. 0. 0. 0. 0. 0. 0. 0. 0. 0. 0. 0. 0. 0. 0. 1.\n",
      " 1. 1. 1. 1. 1. 1. 0. 0. 0. 0. 0. 0. 0. 0. 0. 0. 0. 0. 1. 1. 1. 1. 1. 1.\n",
      " 1. 1. 1. 0. 0. 0. 0. 0. 0. 0. 0. 0. 0. 1. 1. 1. 1. 1. 1. 1. 1. 1. 1. 1.\n",
      " 0. 0. 0. 0. 0. 0. 0. 0. 0. 1. 1. 1. 1. 1. 1. 1. 1. 1. 1. 1. 0. 0. 0. 0.\n",
      " 0. 0. 0. 0. 0. 1. 1. 1. 1. 1. 1. 1. 1. 1. 1. 1. 0. 0. 0. 0. 0. 0. 0. 0.\n",
      " 1. 1. 1. 1. 1. 1. 1. 1. 1. 1. 1. 1. 1. 0. 0. 0. 0. 0. 0. 0. 0. 1. 1. 1.\n",
      " 1. 1. 1. 1. 1. 1. 1. 1. 0. 0. 0. 0. 0. 0. 0. 0. 0. 1. 1. 1. 1. 1. 1. 1.\n",
      " 1. 1. 1. 1. 0. 0. 0. 0. 0. 0. 0. 0. 0. 1. 1. 1. 1. 1. 1. 1. 1. 1. 1. 1.\n",
      " 0. 0. 0. 0. 0. 0. 0. 0. 0. 0. 1. 1. 1. 1. 1. 1. 1. 1. 1. 0. 0. 0. 0. 0.\n",
      " 0. 0. 0. 0. 0. 0. 0. 1. 1. 1. 1. 1. 1. 1. 0. 0. 0. 0. 0. 0. 0. 0. 0. 0.\n",
      " 0. 0. 0. 0. 0. 0. 1. 0. 0. 0. 0. 0. 0. 0. 0. 0. 1.]\n",
      "correct!\n",
      "correct!\n",
      "correct!\n",
      "correct!\n",
      "correct!\n",
      "correct!\n",
      "correct!\n",
      "correct!\n",
      "incorrect!, New weights = [ 0.  0.  0.  0.  0.  0.  0.  0.  0.  0.  0.  0.  0.  0.  0.  0.  0.  0.\n",
      "  0.  0.  0.  0.  0.  0.  0.  0.  0.  0.  0.  0.  0.  0.  0.  0.  0.  0.\n",
      "  0.  0.  0.  0.  0.  0.  0.  0.  0.  0.  0.  0.  0.  0.  0.  0.  0.  0.\n",
      "  0.  0.  0.  0.  0.  0.  0.  0.  0.  0.  0.  0.  0.  0.  0.  0.  0.  0.\n",
      "  0.  0.  0.  0.  0.  0.  0.  0.  0.  0.  0.  0.  0.  0.  0.  0.  0.  0.\n",
      "  0.  0.  0.  0.  0.  0.  0.  0.  0.  0.  0.  0.  0.  0.  0.  0.  0.  0.\n",
      "  0.  0.  0.  0.  0.  0.  0.  0.  0.  0.  0.  0.  0.  0.  0.  0.  0.  0.\n",
      "  0.  0.  0.  0.  0.  0.  0.  0.  0.  0.  0.  0.  0.  0.  0.  0.  0.  0.\n",
      "  0.  0.  0.  0.  0.  0.  1.  0.  0.  0.  0.  0.  0.  0.  0.  0.  0.  0.\n",
      "  0.  0.  0.  0.  0.  1.  1.  1.  1.  1.  1.  1.  0.  0.  0.  0.  0.  0.\n",
      "  0.  0.  0.  0.  0.  0.  1.  1.  1.  1.  1.  1.  1.  1.  1.  0.  0.  0.\n",
      "  0.  0.  0.  0.  0.  0.  0.  1.  1.  1.  1.  1.  1.  1.  1.  1.  1.  1.\n",
      "  0.  0.  0.  0.  0.  0.  0.  0.  0.  1.  1.  1.  1.  1.  1.  1.  1.  1.\n",
      "  1.  1.  0.  0.  0.  0.  0.  0.  0.  0.  0.  1.  1.  1.  1.  1.  1.  1.\n",
      "  1.  1.  1.  1.  0.  0.  0.  0.  0.  0.  0.  0.  1.  1.  1.  1.  1.  1.\n",
      "  1.  1.  1.  1.  1.  1.  1.  0.  0.  0.  0.  0.  0.  0. -1.  0.  0.  0.\n",
      "  0.  0.  0.  0.  0.  0.  0.  0. -1. -1. -1.  0.  0.  0.  0.  0. -1.  0.\n",
      "  0.  0.  0.  0.  0.  0.  0.  0.  0.  0. -1. -1. -1.  0.  0.  0.  0.  0.\n",
      " -1.  0.  0.  0.  0.  0.  0.  0.  0.  0.  0.  0. -1. -1. -1.  0.  0.  0.\n",
      "  0.  0. -1. -1.  0.  0.  0.  0.  0.  0.  0.  0.  0. -1. -1. -1. -1.  0.\n",
      "  0.  0.  0.  0. -1. -1. -1.  0.  0.  0.  0.  0.  0.  0. -1. -1. -1. -1.\n",
      " -1.  0.  0.  0.  0.  0.  0.  0.  0.  0.  0.  0.  1.  0.  0.  0.  0.  0.\n",
      "  0.  0.  0.  0.  0.]\n",
      "incorrect!, New weights = [ 0.  0.  0.  0.  0.  0.  0.  0.  0.  0.  0.  0.  0.  0.  0.  0.  0.  0.\n",
      "  0.  0.  0.  0.  0.  0.  0.  0.  0.  0.  0.  0.  0.  0.  0.  0.  0.  0.\n",
      "  0.  0.  0.  0.  0.  0.  0.  0.  0.  0.  0.  0.  0.  0.  0.  0.  0.  0.\n",
      "  0.  0.  0.  0.  0.  0.  0.  0.  0.  0.  0.  0.  0.  0.  0.  0.  0.  0.\n",
      "  0.  0.  0.  0.  0.  0.  0.  0.  0.  0.  0.  0.  0.  0.  0.  0.  0.  0.\n",
      "  0.  0.  0.  0.  0.  0.  0.  0.  0.  0.  0. -1. -1. -1. -1. -1. -1. -1.\n",
      " -1. -1. -1. -1. -1. -1.  0.  0.  0.  0.  0.  0.  0. -1. -1. -1. -1. -1.\n",
      " -1. -1. -1. -1. -1. -1. -1. -1.  0.  0.  0.  0.  0.  0.  0. -1. -1. -1.\n",
      " -1. -1. -1. -1. -1. -1.  0. -1. -1. -1.  0.  0.  0.  0.  0.  0.  0. -1.\n",
      " -1. -1. -1. -1. -1.  0.  0.  0.  0.  0.  0.  0.  0.  0.  0.  0.  0.  0.\n",
      "  0. -1. -1. -1. -1. -1.  0.  0.  0.  0.  0.  0.  0.  0.  1.  0.  0.  0.\n",
      "  0.  0.  0. -1. -1. -1. -1.  0.  0.  0.  0.  0.  0.  0.  0.  0.  1.  1.\n",
      "  0.  0.  0.  0.  0. -1. -1. -1. -1.  0.  0.  0.  0.  0.  0.  0.  0.  0.\n",
      "  1.  1.  0.  0.  0.  0.  0. -1. -1. -1. -1.  0.  0.  0.  0.  0.  0.  0.\n",
      "  0.  0.  1.  1.  0.  0.  0.  0.  0.  0.  0.  0.  1.  1.  1.  1.  1.  1.\n",
      "  1.  1.  1.  1.  1.  1.  1.  0.  0.  0.  0.  0.  0.  0. -1.  0.  0.  0.\n",
      "  0.  0.  0.  0.  0.  0.  0.  0. -1. -1. -1.  0.  0.  0.  0.  0. -1.  0.\n",
      "  0.  0.  0.  0.  0.  0.  0.  0.  0.  0. -1. -1. -1.  0.  0.  0.  0.  0.\n",
      " -1.  0.  0.  0.  0.  0.  0.  0.  0.  0.  0.  0. -1. -1. -1.  0.  0.  0.\n",
      "  0.  0. -1. -1.  0.  0.  0.  0.  0.  0.  0.  0.  0. -1. -1. -1. -1.  0.\n",
      "  0.  0.  0.  0. -1. -1. -1.  0.  0.  0.  0.  0.  0.  0. -1. -1. -1. -1.\n",
      " -1.  0.  0.  0.  0.  0.  0.  0.  0.  0.  0.  0.  1.  0.  0.  0.  0.  0.\n",
      "  0.  0.  0.  0. -1.]\n",
      "correct!\n",
      "correct!\n",
      "correct!\n",
      "correct!\n",
      "correct!\n",
      "correct!\n",
      "incorrect!, New weights = [ 0.  0.  0.  0.  0.  0.  0.  0.  0.  0.  0.  0.  0.  0.  0.  0.  0.  0.\n",
      "  0.  0.  0.  0.  0.  0.  0.  0.  0.  0.  0.  0.  0.  0.  0.  0.  0.  0.\n",
      "  0.  0.  0.  0.  0.  0.  0.  0.  0.  0.  0.  0.  0.  0.  0.  0.  0.  0.\n",
      "  0.  0.  0.  0.  0.  0.  0.  0.  0.  0.  0.  0.  0.  0.  0.  0.  0.  0.\n",
      "  0.  0.  0.  0.  0.  0.  0.  0.  0.  0.  0.  0.  0.  0.  0.  0.  0.  0.\n",
      "  0.  0.  0.  0.  0.  0.  0.  0.  0.  0.  0. -1. -1. -1. -1. -1. -1. -1.\n",
      " -1. -1. -1. -1. -1. -1.  0.  0.  0.  0.  0.  0.  0. -1. -1. -1. -1. -1.\n",
      " -1. -1. -1. -1. -1. -1. -1. -1.  0.  0.  0.  0.  0.  0.  0. -1. -1. -1.\n",
      " -1. -1. -1. -1. -1. -1.  0. -1. -1. -1.  0.  0.  0.  0.  0.  0.  0. -1.\n",
      " -1. -1. -1. -1. -1.  0.  0.  0.  0.  0.  0.  0.  0.  0.  0.  0.  0.  0.\n",
      "  0. -2. -2. -2. -2. -2. -1. -1. -1. -1. -1. -1. -1. -1.  0. -1.  0.  0.\n",
      "  0.  0.  0. -2. -2. -2. -2. -1. -1. -1. -1. -1. -1. -1. -1. -1.  0.  0.\n",
      "  0.  0.  0.  0.  0. -2. -2. -2. -2. -1. -1. -1. -1. -1. -1. -1. -1. -1.\n",
      "  0.  0.  0.  0.  0.  0.  0. -2. -2. -2. -2. -1. -1. -1. -1. -1. -1. -1.\n",
      " -1. -1.  0.  0.  0.  0.  0.  0.  0. -1. -1. -1.  0.  0.  0.  0.  0.  0.\n",
      "  0.  0.  0.  0.  0.  0.  1.  0.  0.  0.  0.  0.  0.  0. -1.  0.  0.  0.\n",
      "  0.  0.  0.  0.  0.  0.  0.  0. -1. -1. -1.  0.  0.  0.  0.  0. -1.  0.\n",
      "  0.  0.  0.  0.  0.  0.  0.  0.  0.  0. -1. -1. -1.  0.  0.  0.  0.  0.\n",
      " -1.  0.  0.  0.  0.  0.  0.  0.  0.  0.  0.  0. -1. -1. -1.  0.  0.  0.\n",
      "  0.  0. -1. -1.  0.  0.  0.  0.  0.  0.  0.  0.  0. -1. -1. -1. -1.  0.\n",
      "  0.  0.  0.  0. -1. -1. -1.  0.  0.  0.  0.  0.  0.  0. -1. -1. -1. -1.\n",
      " -1.  0.  0.  0.  0.  0.  0.  0.  0.  0.  0.  0.  1.  0.  0.  0.  0.  0.\n",
      "  0.  0.  0.  0. -2.]\n",
      "incorrect!, New weights = [ 0.  0.  0.  0.  0.  0.  0.  0.  0.  0.  0.  0.  0.  0.  0.  0.  0.  0.\n",
      "  0.  0.  0.  0.  0.  0.  0.  0.  0.  0.  0.  0.  0.  0.  0.  0.  0.  0.\n",
      "  0.  0.  0.  0.  0.  0.  0.  0.  0.  0.  0.  0.  0.  0.  0.  0.  0.  0.\n",
      "  0.  0.  0.  0.  0.  0.  0.  0.  0.  0.  0.  0.  0.  0.  0.  0.  0.  0.\n",
      "  0.  0.  0.  0.  0.  0.  0.  0.  0.  0.  0.  0.  0.  0.  0.  0.  0.  0.\n",
      "  0.  0.  0.  0.  0.  0.  0.  0.  0.  0.  0. -1. -1. -1. -1. -1. -1. -1.\n",
      " -1. -1. -1. -1. -1. -1.  0.  0.  0.  0.  0.  0.  0. -1. -1. -1. -1. -1.\n",
      " -1. -1. -1. -1. -1. -1. -1. -1.  0.  0.  0.  0.  0.  0.  0. -1. -1. -1.\n",
      " -1. -1. -1. -1. -1. -1.  1. -1. -1. -1.  0.  0.  0.  0.  0.  0.  0. -1.\n",
      " -1. -1. -1. -1. -1.  1.  1.  1.  1.  1.  1.  1.  0.  0.  0.  0.  0.  0.\n",
      "  0. -2. -2. -2. -2. -2.  0.  0.  0.  0.  0.  0.  0.  0.  1. -1.  0.  0.\n",
      "  0.  0.  0. -2. -2. -2. -2.  0.  0.  0.  0.  0.  0.  0.  0.  0.  1.  1.\n",
      "  0.  0.  0.  0.  0. -2. -2. -2. -2.  0.  0.  0.  0.  0.  0.  0.  0.  0.\n",
      "  1.  1.  0.  0.  0.  0.  0. -2. -2. -2. -2.  0.  0.  0.  0.  0.  0.  0.\n",
      "  0.  0.  1.  1.  0.  0.  0.  0.  0. -1. -1. -1.  1.  1.  1.  1.  1.  1.\n",
      "  1.  1.  1.  1.  1.  1.  2.  0.  0.  0.  0.  0.  0.  0. -1.  1.  1.  1.\n",
      "  1.  1.  1.  1.  1.  1.  1.  1. -1. -1. -1.  0.  0.  0.  0.  0. -1.  1.\n",
      "  1.  1.  1.  1.  1.  1.  1.  1.  1.  1. -1. -1. -1.  0.  0.  0.  0.  0.\n",
      " -1.  1.  1.  1.  1.  1.  1.  1.  1.  1.  1.  1. -1. -1. -1.  0.  0.  0.\n",
      "  0.  0. -1. -1.  1.  1.  1.  1.  1.  1.  1.  1.  1. -1. -1. -1. -1.  0.\n",
      "  0.  0.  0.  0. -1. -1. -1.  1.  1.  1.  1.  1.  1.  1. -1. -1. -1. -1.\n",
      " -1.  0.  0.  0.  0.  0.  0.  0.  0.  0.  0.  0.  2.  0.  0.  0.  0.  0.\n",
      "  0.  0.  0.  0. -1.]\n",
      "correct!\n",
      "incorrect!, New weights = [ 0.  0.  0.  0.  0.  0.  0.  0.  0.  0.  0.  0.  0.  0.  0.  0.  0.  0.\n",
      "  0.  0.  0.  0.  0.  0.  0.  0.  0.  0.  0.  1.  0.  0.  0.  0.  0.  0.\n",
      "  0.  0.  0.  0.  0.  0.  0.  0.  0.  0.  1.  1.  1.  1.  1.  1.  1.  0.\n",
      "  0.  0.  0.  0.  0.  0.  0.  0.  0.  0.  1.  1.  1.  1.  1.  1.  1.  1.\n",
      "  1.  1.  1.  0.  0.  0.  0.  0.  0.  0.  0.  1.  1.  1.  1.  1.  1.  1.\n",
      "  1.  1.  1.  1.  1.  1.  0.  0.  0.  0.  0. -1. -1.  0.  0.  0.  0.  0.\n",
      "  0.  0.  0.  0.  0.  0.  1.  1.  0.  0.  0.  0.  0. -1.  0.  0.  0.  0.\n",
      "  0.  0.  0.  0.  0.  0.  0.  0.  1.  1.  1.  0.  0.  0.  0. -1.  0.  0.\n",
      "  0.  0.  0.  0.  0.  0.  2.  0.  0.  0.  1.  1.  1.  0.  0.  0.  0. -1.\n",
      "  0.  0.  0.  0.  0.  2.  2.  2.  2.  2.  2.  2.  1.  1.  1.  0.  0.  0.\n",
      "  0. -1. -1. -1. -1. -1.  1.  1.  1.  1.  1.  1.  1.  1.  2.  0.  1.  1.\n",
      "  0.  0.  0. -2. -1. -1. -1.  1.  1.  1.  1.  1.  1.  1.  1.  1.  2.  2.\n",
      "  1.  0.  0.  0.  0. -2. -1. -1. -1.  1.  1.  1.  1.  1.  1.  1.  1.  1.\n",
      "  2.  2.  1.  0.  0.  0.  0. -2. -1. -1. -1.  1.  1.  1.  1.  1.  1.  1.\n",
      "  1.  1.  2.  2.  1.  0.  0.  0.  0. -1. -1.  0.  2.  2.  2.  2.  2.  2.\n",
      "  2.  2.  2.  2.  2.  2.  2.  0.  0.  0.  0.  0.  0.  1.  0.  2.  2.  2.\n",
      "  2.  2.  2.  2.  2.  2.  2.  2. -1. -1. -1.  0.  0.  0.  0.  0.  0.  2.\n",
      "  2.  2.  2.  2.  2.  2.  2.  2.  2.  1. -1. -1. -1.  0.  0.  0.  0.  0.\n",
      " -1.  1.  2.  2.  2.  2.  2.  2.  2.  1.  1.  1. -1. -1. -1.  0.  0.  0.\n",
      "  0.  0. -1. -1.  1.  1.  1.  2.  1.  1.  1.  1.  1. -1. -1. -1. -1.  0.\n",
      "  0.  0.  0.  0. -1. -1. -1.  1.  1.  1.  1.  1.  1.  1. -1. -1. -1. -1.\n",
      " -1.  0.  0.  0.  0.  0.  0.  0.  0.  0.  0.  0.  2.  0.  0.  0.  0.  0.\n",
      "  0.  0.  0.  0.  0.]\n",
      "correct!\n",
      "correct!\n",
      "correct!\n",
      "correct!\n",
      "incorrect!, New weights = [ 0.  0.  0.  0.  0.  0.  0.  0.  0.  0.  0.  0.  0.  0.  0.  0.  0.  0.\n",
      "  0.  0.  0.  0.  0.  0.  0.  0.  0.  0.  0.  1.  0.  0.  0.  0.  0.  0.\n",
      "  0.  0.  0.  0.  0.  0.  0.  0.  0.  0.  1.  1.  1.  1.  1.  1.  1.  0.\n",
      "  0.  0.  0.  0.  0.  0.  0.  0.  0.  0.  1.  1.  1.  1.  1.  1.  1.  1.\n",
      "  1.  1.  1.  0.  0.  0.  0.  0.  0.  0.  0.  1.  1.  1.  1.  1.  1.  1.\n",
      "  1.  1.  1.  1.  1.  1.  0.  0.  0.  0.  0. -1. -1.  0.  0.  0.  0.  0.\n",
      "  0.  0.  0.  0.  0.  0.  1.  1.  0.  0.  0.  0.  0. -1.  0.  0.  0.  0.\n",
      "  0.  0.  0.  0.  0.  0.  0.  0.  1.  1.  1.  0.  0.  0.  0. -1.  0.  1.\n",
      "  0.  0.  0.  0.  0.  0.  2.  0.  0.  0.  1.  1.  1.  0.  0.  0.  0. -1.\n",
      "  1.  1.  1.  0.  0.  2.  2.  2.  2.  2.  2.  2.  1.  1.  1.  0.  0.  0.\n",
      "  0.  0.  0.  0.  0.  0.  1.  1.  1.  1.  1.  1.  1.  1.  2.  0.  1.  1.\n",
      "  0.  0.  0. -2.  0.  0.  0.  1.  1.  1.  1.  1.  1.  1.  1.  1.  2.  2.\n",
      "  1.  0.  0.  0.  0. -2. -1.  0. -1.  1.  1.  1.  1.  1.  1.  1.  1.  1.\n",
      "  2.  2.  1.  0.  0.  0.  0. -2. -1. -1. -1.  1.  1.  1.  1.  1.  1.  1.\n",
      "  1.  1.  2.  2.  1.  0.  0.  0.  0. -1. -1.  0.  2.  2.  2.  2.  2.  2.\n",
      "  2.  2.  2.  2.  2.  2.  2.  0.  0.  0.  0.  0.  0.  1.  0.  2.  2.  2.\n",
      "  2.  2.  2.  2.  2.  2.  2.  2. -1. -1. -1.  0.  0.  0.  0.  0.  0.  2.\n",
      "  2.  2.  2.  2.  2.  2.  2.  2.  2.  1. -1. -1. -1.  0.  0.  0.  0.  0.\n",
      " -1.  1.  2.  2.  2.  2.  2.  2.  2.  1.  1.  1. -1. -1. -1.  0.  0.  0.\n",
      "  0.  0. -1. -1.  1.  1.  1.  2.  1.  1.  1.  1.  1. -1. -1. -1. -1.  0.\n",
      "  0.  0.  0.  0. -1. -1. -1.  1.  1.  1.  1.  1.  1.  1. -1. -1. -1. -1.\n",
      " -1.  0.  0.  0.  0.  0.  0.  0.  0.  0.  0.  0.  2.  0.  0.  0.  0.  0.\n",
      "  0.  0.  0.  0.  1.]\n",
      "correct!\n",
      "incorrect!, New weights = [ 0.  0.  0.  0.  0.  0.  0.  0.  0.  0.  0.  0.  0.  0.  0.  0.  0.  0.\n",
      "  0.  0.  0.  0.  0.  0.  0.  0.  0.  0.  0.  1.  0.  0.  0.  0.  0.  0.\n",
      "  0.  0.  0.  0.  0.  0.  0.  0.  0.  0.  1.  1.  1.  1.  1.  1.  1.  0.\n",
      "  0.  0.  0.  0.  0.  0.  0.  0.  0.  0.  1.  1.  1.  1.  1.  1.  1.  1.\n",
      "  1.  1.  1.  0.  0.  0.  0.  0.  0.  0.  0.  1.  1.  1.  1.  1.  1.  1.\n",
      "  1.  1.  1.  1.  1.  1.  0.  0.  0.  0.  0. -1. -1.  0.  0.  0.  0.  0.\n",
      "  0.  0.  0.  0.  0.  0.  1.  1.  0.  0.  0.  0.  0. -1.  0.  0.  0.  0.\n",
      "  0.  0.  0.  0.  0.  0.  0.  0.  1.  1.  1.  0.  0.  0.  0. -1.  0.  1.\n",
      "  0.  0.  0.  0.  0.  0.  2.  0.  0.  0.  1.  1.  1.  0.  0.  0.  0. -1.\n",
      "  1.  1.  1.  0.  0.  2.  2.  2.  2.  2.  2.  2.  1.  1.  1.  0.  0.  0.\n",
      "  0.  0.  0.  0.  0.  0.  1.  1.  1.  1.  1.  1.  1.  1.  2.  0.  1.  1.\n",
      "  0.  0.  0. -2.  0.  0.  0.  1.  1.  1.  1.  1.  1.  1.  1.  1.  2.  2.\n",
      "  1.  0.  0.  0.  0. -2. -1.  0. -1.  1.  1.  1.  1.  1.  1.  1.  1.  1.\n",
      "  2.  2.  1.  0.  0.  0.  0. -2. -1. -1. -1.  1.  1.  1.  1.  1.  1.  1.\n",
      "  1.  1.  2.  2.  1.  0.  0.  0.  0. -1. -1.  0.  2.  2.  2.  2.  2.  2.\n",
      "  2.  2.  2.  2.  2.  2.  2.  0.  0.  0.  0.  0.  0.  1. -1.  1.  1.  1.\n",
      "  1.  1.  1.  1.  1.  1.  1.  1. -2. -2. -2.  0.  0.  0.  0.  0. -1.  1.\n",
      "  1.  1.  1.  1.  1.  1.  1.  1.  1.  0. -2. -2. -2.  0.  0.  0.  0.  0.\n",
      " -2.  0.  1.  1.  1.  1.  1.  1.  1.  0.  0.  0. -2. -2. -2.  0.  0.  0.\n",
      "  0.  0. -2. -2.  0.  0.  0.  1.  0.  0.  0.  0.  0. -2. -2. -2. -2.  0.\n",
      "  0.  0.  0.  0. -2. -2. -2.  0.  0.  0.  0.  0.  0.  0. -2. -2. -2. -2.\n",
      " -2.  0.  0.  0.  0.  0.  0.  0.  0.  0.  0.  0.  2.  0.  0.  0.  0.  0.\n",
      "  0.  0.  0.  0.  0.]\n",
      "incorrect!, New weights = [ 0.  0.  0.  0.  0.  0.  0.  0.  0.  0.  0.  0.  0.  0.  0.  0.  0.  0.\n",
      "  0.  0.  0.  0.  0.  0.  0.  0.  0.  0.  0.  1.  0.  0.  0.  0.  0.  0.\n",
      "  0.  0.  0.  0.  0.  0.  0.  0.  0.  0.  1.  1.  1.  1.  1.  1.  1.  0.\n",
      "  0.  0.  0.  0.  0.  0.  0.  0.  0.  0.  1.  1.  1.  1.  1.  1.  1.  1.\n",
      "  1.  1.  1.  0.  0.  0.  0.  0.  0.  0.  0.  1.  1.  1.  1.  1.  1.  1.\n",
      "  1.  1.  1.  1.  1.  1.  0.  0.  0.  0.  0. -2. -2. -1. -1. -1. -1. -1.\n",
      " -1. -1. -1. -1. -1. -1.  1.  1.  0.  0.  0.  0.  0. -2. -1. -1. -1. -1.\n",
      " -1. -1. -1. -1. -1. -1. -1. -1.  1.  1.  1.  0.  0.  0.  0. -2. -1.  0.\n",
      " -1. -1. -1. -1. -1. -1.  1. -1. -1. -1.  1.  1.  1.  0.  0.  0.  0. -2.\n",
      "  0.  0.  0. -1. -1.  1.  1.  1.  1.  1.  1.  1.  1.  1.  1.  0.  0.  0.\n",
      "  0. -1. -1. -1. -1. -1.  0.  0.  0.  0.  0.  0.  0.  0.  2.  0.  1.  1.\n",
      "  0.  0.  0. -3. -1. -1. -1.  0.  0.  0.  0.  0.  0.  0.  0.  0.  2.  2.\n",
      "  1.  0.  0.  0.  0. -3. -2. -1. -2.  0.  0.  0.  0.  0.  0.  0.  0.  0.\n",
      "  2.  2.  1.  0.  0.  0.  0. -3. -2. -2. -2.  0.  0.  0.  0.  0.  0.  0.\n",
      "  0.  0.  2.  2.  1.  0.  0.  0.  0. -1. -1.  0.  2.  2.  2.  2.  2.  2.\n",
      "  2.  2.  2.  2.  2.  2.  2.  0.  0.  0.  0.  0.  0.  1. -1.  1.  1.  1.\n",
      "  1.  1.  1.  1.  1.  1.  1.  1. -2. -2. -2.  0.  0.  0.  0.  0. -1.  1.\n",
      "  1.  1.  1.  1.  1.  1.  1.  1.  1.  0. -2. -2. -2.  0.  0.  0.  0.  0.\n",
      " -2.  0.  1.  1.  1.  1.  1.  1.  1.  0.  0.  0. -2. -2. -2.  0.  0.  0.\n",
      "  0.  0. -2. -2.  0.  0.  0.  1.  0.  0.  0.  0.  0. -2. -2. -2. -2.  0.\n",
      "  0.  0.  0.  0. -2. -2. -2.  0.  0.  0.  0.  0.  0.  0. -2. -2. -2. -2.\n",
      " -2.  0.  0.  0.  0.  0.  0.  0.  0.  0.  0.  0.  2.  0.  0.  0.  0.  0.\n",
      "  0.  0.  0.  0. -1.]\n",
      "incorrect!, New weights = [ 0.  0.  0.  0.  0.  0.  0.  0.  0.  0.  0.  0.  0.  0.  0.  0.  0.  0.\n",
      "  0.  0.  0.  0.  0.  0.  0.  0.  0.  0.  0.  1.  0.  0.  0.  0.  0.  0.\n",
      "  0.  0.  0.  0.  0.  0.  0.  0.  0.  0.  1.  1.  1.  1.  1.  1.  1.  0.\n",
      "  0.  0.  0.  0.  0.  0.  0.  0.  0.  0.  1.  1.  1.  1.  1.  1.  1.  1.\n",
      "  1.  1.  1.  0.  0.  0.  0.  0.  0.  0.  0.  1.  1.  1.  1.  1.  1.  1.\n",
      "  1.  1.  1.  1.  1.  1.  0.  0.  0.  0.  0. -2. -2. -1. -1. -1. -1. -1.\n",
      " -1. -1. -1. -1. -1. -1.  1.  1.  0.  0.  0.  0.  0. -2. -1. -1. -1. -1.\n",
      " -1. -1. -1. -1. -1. -1. -1. -1.  1.  1.  1.  0.  0.  0.  0. -2. -1.  0.\n",
      " -1. -1. -1. -1. -1. -1.  1. -1. -1. -1.  1.  1.  1.  0.  0.  0.  0. -2.\n",
      "  0.  0.  0. -1. -1.  1.  1.  1.  1.  1.  1.  1.  1.  1.  1.  0.  0.  0.\n",
      "  0. -1. -1. -1. -1. -1.  0.  0.  0.  0.  0.  0.  0.  0.  2.  0.  1.  1.\n",
      "  0.  0.  0. -4. -2. -2. -2. -1. -1. -1. -1. -1. -1. -1. -1.  0.  2.  2.\n",
      "  1.  0.  0.  0.  0. -4. -3. -2. -3. -1. -1. -1. -1. -1. -1. -1. -1.  0.\n",
      "  2.  2.  1.  0.  0.  0.  0. -4. -3. -3. -3. -1. -1. -1. -1. -1. -1. -1.\n",
      " -1.  0.  2.  2.  1.  0.  0.  0.  0. -2. -2. -1.  1.  1.  1.  1.  1.  1.\n",
      "  1.  1.  1.  2.  2.  2.  2.  0.  0.  0.  0. -1. -1.  0. -2.  0.  0.  0.\n",
      "  0.  0.  0.  0.  0.  1.  1.  1. -2. -2. -2.  0.  0. -1. -1. -1. -2.  0.\n",
      "  0.  0.  0.  0.  0.  0.  0.  1.  1.  0. -2. -2. -2.  0.  0. -1. -1. -1.\n",
      " -3. -1.  0.  0.  0.  0.  0.  0.  0.  0.  0.  0. -2. -2. -2.  0.  0.  0.\n",
      "  0.  0. -2. -2.  0.  0.  0.  1.  0.  0.  0.  0.  0. -2. -2. -2. -2.  0.\n",
      "  0.  0.  0.  0. -2. -2. -2.  0.  0.  0.  0.  0.  0.  0. -2. -2. -2. -2.\n",
      " -2.  0.  0.  0.  0.  0.  0.  0.  0.  0.  0.  0.  2.  0.  0.  0.  0.  0.\n",
      "  0.  0.  0.  0. -2.]\n",
      "incorrect!, New weights = [ 0.  0.  0.  0.  0.  0.  0.  0.  0.  0.  0.  0.  0.  0.  0.  0.  0.  0.\n",
      "  0.  0.  0.  0.  0.  0. -1. -1. -1. -1. -1.  0. -1. -1. -1. -1. -1. -1.\n",
      " -1. -1. -1.  0.  0.  0.  0.  0. -1. -1.  0.  0.  0.  0.  0.  0.  0. -1.\n",
      " -1. -1. -1. -1. -1.  0.  0.  0.  0.  0.  0.  0.  0.  0.  0.  0.  0.  0.\n",
      "  0.  0.  0. -1. -1. -1. -1.  0.  0.  0.  0.  1.  0.  0.  0.  0.  0.  0.\n",
      "  0.  0.  0.  0.  0.  0. -1. -1. -1.  0.  0. -2. -2. -1. -2. -2. -2. -2.\n",
      " -2. -2. -2. -2. -2. -2.  0.  0. -1. -1. -1.  0.  0. -2. -1. -1. -1. -1.\n",
      " -1. -1. -1. -1. -1. -1. -1. -1.  1.  1.  1.  0.  0.  0.  0. -2. -1.  0.\n",
      " -1. -1. -1. -1. -1. -1.  1. -1. -1. -1.  1.  1.  1.  0.  0.  0.  0. -2.\n",
      "  0.  0.  0. -1. -1.  1.  1.  1.  1.  1.  1.  1.  1.  1.  1.  0.  0.  0.\n",
      "  0. -1. -1. -1. -1. -1.  0.  0.  0.  0.  0.  0.  0.  0.  2.  0.  1.  1.\n",
      "  0.  0.  0. -4. -2. -2. -2. -1. -1. -1. -1. -1. -1. -1. -1.  0.  2.  2.\n",
      "  1.  0.  0.  0.  0. -4. -3. -2. -3. -1. -1. -1. -1. -1. -1. -1. -1.  0.\n",
      "  2.  2.  1.  0.  0.  0.  0. -4. -3. -3. -3. -1. -1. -1. -1. -1. -1. -1.\n",
      " -1.  0.  2.  2.  1.  0.  0.  0.  0. -2. -2. -1.  1.  1.  1.  1.  1.  1.\n",
      "  1.  1.  1.  2.  2.  2.  2.  0.  0.  0.  0. -1. -1.  0. -2.  0.  0.  0.\n",
      "  0.  0.  0.  0.  0.  1.  1.  1. -2. -2. -2.  0.  0. -1. -1. -1. -2.  0.\n",
      "  0.  0.  0.  0.  0.  0.  0.  1.  1.  0. -2. -2. -2.  0.  0. -1. -1. -1.\n",
      " -3. -1.  0.  0.  0.  0.  0.  0.  0.  0.  0.  0. -2. -2. -2.  0.  0.  0.\n",
      "  0.  0. -2. -2.  0.  0.  0.  1.  0.  0.  0.  0.  0. -2. -2. -2. -2.  0.\n",
      "  0.  0.  0.  0. -2. -2. -2.  0.  0.  0.  0.  0.  0.  0. -2. -2. -2. -2.\n",
      " -2.  0.  0.  0.  0.  0.  0.  0.  0.  0.  0.  0.  2.  0.  0.  0.  0.  0.\n",
      "  0.  0.  0.  0. -3.]\n",
      "correct!\n",
      "correct!\n",
      "correct!\n",
      "correct!\n",
      "correct!\n",
      "correct!\n",
      "correct!\n",
      "incorrect!, New weights = [ 0.  0.  0.  0.  0.  0.  0.  0.  0.  0.  0.  0.  0.  0.  0.  0.  0.  0.\n",
      "  0.  0.  0.  0.  0.  0. -1. -1. -1. -1. -1.  1. -1. -1. -1. -1. -1. -1.\n",
      " -1. -1. -1.  0.  0.  0.  0.  0. -1. -1.  1.  1.  1.  1.  1.  1.  1. -1.\n",
      " -1. -1. -1. -1. -1.  0.  0.  0.  0.  0.  1.  1.  1.  1.  1.  1.  1.  1.\n",
      "  1.  1.  1. -1. -1. -1. -1.  0.  0.  0.  0.  2.  1.  1.  1.  1.  1.  1.\n",
      "  1.  1.  1.  1.  1.  1. -1. -1. -1.  0.  0. -2. -2.  0. -1. -1. -1. -1.\n",
      " -1. -1. -1. -1. -1. -1.  1.  1. -1. -1. -1.  0.  0. -2.  0.  0.  0.  0.\n",
      "  0.  0.  0.  0.  0.  0.  0.  0.  2.  2.  2.  0.  0.  0.  0. -2.  0.  1.\n",
      "  0.  0.  0.  0.  0.  0.  2.  0.  0.  0.  2.  2.  2.  0.  0.  0.  0. -2.\n",
      "  1.  1.  1.  0.  0.  2.  2.  2.  2.  2.  2.  2.  2.  2.  2.  0.  0.  0.\n",
      "  0.  0.  0.  0.  0.  0.  1.  1.  1.  1.  1.  1.  1.  1.  3.  1.  2.  2.\n",
      "  0.  0.  0. -4. -1. -1. -1.  0.  0.  0.  0.  0.  0.  0.  0.  1.  3.  3.\n",
      "  2.  0.  0.  0.  0. -4. -2. -1. -2.  0.  0.  0.  0.  0.  0.  0.  0.  1.\n",
      "  3.  3.  2.  0.  0.  0.  0. -4. -2. -2. -2.  0.  0.  0.  0.  0.  0.  0.\n",
      "  0.  1.  3.  3.  2.  0.  0.  0.  0. -2. -2.  0.  2.  2.  2.  2.  2.  2.\n",
      "  2.  2.  2.  3.  3.  3.  2.  0.  0.  0.  0. -1. -1.  1. -1.  1.  1.  1.\n",
      "  1.  1.  1.  1.  1.  2.  2.  2. -2. -2. -2.  0.  0. -1. -1. -1. -1.  1.\n",
      "  1.  1.  1.  1.  1.  1.  1.  2.  2.  0. -2. -2. -2.  0.  0. -1. -1. -1.\n",
      " -3. -1.  1.  1.  1.  1.  1.  1.  1.  0.  0.  0. -2. -2. -2.  0.  0.  0.\n",
      "  0.  0. -2. -2.  0.  0.  0.  2.  0.  0.  0.  0.  0. -2. -2. -2. -2.  0.\n",
      "  0.  0.  0.  0. -2. -2. -2.  0.  0.  0.  0.  0.  0.  0. -2. -2. -2. -2.\n",
      " -2.  0.  0.  0.  0.  0.  0.  0.  0.  0.  0.  0.  2.  0.  0.  0.  0.  0.\n",
      "  0.  0.  0.  0. -2.]\n",
      "correct!\n",
      "correct!\n",
      "correct!\n",
      "correct!\n",
      "incorrect!, New weights = [ 0.  0.  0.  0.  0.  0.  0.  0.  0.  0.  0.  0.  0.  0.  0.  0.  0.  0.\n",
      "  0.  0.  0.  0.  0.  0. -1. -1. -1. -1. -1.  1. -1. -1. -1. -1. -1. -1.\n",
      " -1. -1. -1.  0.  0.  0.  0.  0. -1. -1.  1.  1.  1.  1.  1.  1.  1. -1.\n",
      " -1. -1. -1. -1. -1.  0.  0.  0.  0.  0.  1.  1.  1.  1.  1.  1.  1.  1.\n",
      "  1.  1.  1. -1. -1. -1. -1.  0.  0.  0.  0.  2.  1.  1.  1.  1.  1.  1.\n",
      "  1.  1.  1.  1.  1.  1. -1. -1. -1.  0.  0. -2. -2.  0. -1. -1. -1. -1.\n",
      " -1. -1. -1. -1. -1. -1.  1.  1. -1. -1. -1.  0.  0. -2.  0.  0.  0.  0.\n",
      "  0.  0.  0.  0.  0.  0.  0.  0.  2.  2.  2.  0.  0.  0.  0. -2.  0.  2.\n",
      "  0.  0.  0.  0.  0.  0.  2.  0.  0.  0.  2.  2.  2.  0.  0.  0.  0. -2.\n",
      "  2.  2.  2.  0.  0.  2.  2.  2.  2.  2.  2.  2.  2.  2.  2.  0.  0.  0.\n",
      "  0.  1.  1.  1.  1.  1.  1.  1.  1.  1.  1.  1.  1.  1.  3.  1.  2.  2.\n",
      "  0.  0.  0. -4.  0.  0.  0.  0.  0.  0.  0.  0.  0.  0.  0.  1.  3.  3.\n",
      "  2.  0.  0.  0.  0. -4. -2.  0. -2.  0.  0.  0.  0.  0.  0.  0.  0.  1.\n",
      "  3.  3.  2.  0.  0.  0.  0. -4. -2. -2. -2.  0.  0.  0.  0.  0.  0.  0.\n",
      "  0.  1.  3.  3.  2.  0.  0.  0.  0. -2. -2.  0.  2.  2.  2.  2.  2.  2.\n",
      "  2.  2.  2.  3.  3.  3.  2.  0.  0.  0.  0. -1. -1.  1. -1.  1.  1.  1.\n",
      "  1.  1.  1.  1.  1.  2.  2.  2. -2. -2. -2.  0.  0. -1. -1. -1. -1.  1.\n",
      "  1.  1.  1.  1.  1.  1.  1.  2.  2.  0. -2. -2. -2.  0.  0. -1. -1. -1.\n",
      " -3. -1.  1.  1.  1.  1.  1.  1.  1.  0.  0.  0. -2. -2. -2.  0.  0.  0.\n",
      "  0.  0. -2. -2.  0.  0.  0.  2.  0.  0.  0.  0.  0. -2. -2. -2. -2.  0.\n",
      "  0.  0.  0.  0. -2. -2. -2.  0.  0.  0.  0.  0.  0.  0. -2. -2. -2. -2.\n",
      " -2.  0.  0.  0.  0.  0.  0.  0.  0.  0.  0.  0.  2.  0.  0.  0.  0.  0.\n",
      "  0.  0.  0.  0. -1.]\n",
      "correct!\n",
      "correct!\n",
      "correct!\n",
      "incorrect!, New weights = [ 0.  0.  0.  0.  0.  0.  0.  0.  0.  0.  0.  0.  0.  0.  0.  0.  0.  0.\n",
      "  0.  0.  0.  0.  0.  0. -1. -1. -1. -1. -1.  1. -1. -1. -1. -1. -1. -1.\n",
      " -1. -1. -1.  0.  0.  0.  0.  0. -1. -1.  1.  1.  1.  1.  1.  1.  1. -1.\n",
      " -1. -1. -1. -1. -1.  0.  0.  0.  0.  0.  1.  1.  1.  1.  1.  1.  1.  1.\n",
      "  1.  1.  1. -1. -1. -1. -1.  0.  0.  0.  0.  2.  1.  1.  1.  1.  1.  1.\n",
      "  1.  1.  1.  1.  1.  1. -1. -1. -1.  0.  0. -2. -2.  0. -1. -1. -1. -1.\n",
      " -1. -1. -1. -1. -1. -1.  1.  1. -1. -1. -1.  0.  0. -2.  0.  0.  0.  0.\n",
      "  0.  0.  0.  0.  0.  0.  0.  0.  2.  2.  2.  0.  0.  0.  0. -2.  0.  2.\n",
      "  0.  0.  0.  0.  0.  0.  2.  0.  0.  0.  2.  2.  2.  0.  0.  0.  0. -2.\n",
      "  2.  2.  2.  0.  0.  2.  2.  2.  2.  2.  2.  2.  2.  2.  2.  0.  0.  0.\n",
      "  0.  1.  1.  1.  1.  1.  1.  1.  1.  1.  1.  1.  1.  1.  3.  1.  2.  2.\n",
      "  0.  0.  0. -5. -1. -1. -1. -1. -1. -1. -1. -1. -1. -1. -1.  1.  3.  3.\n",
      "  2.  0.  0.  0.  0. -5. -3. -1. -3. -1. -1. -1. -1. -1. -1. -1. -1.  1.\n",
      "  3.  3.  2.  0.  0.  0.  0. -5. -3. -3. -3. -1. -1. -1. -1. -1. -1. -1.\n",
      " -1.  1.  3.  3.  2.  0.  0.  0.  0. -3. -3. -1.  1.  1.  1.  1.  1.  1.\n",
      "  1.  1.  1.  3.  3.  3.  2.  0.  0.  0.  0. -2. -2.  0. -2.  0.  0.  0.\n",
      "  0.  0.  0.  0.  0.  2.  2.  2. -2. -2. -2.  0.  0. -2. -2. -2. -2.  0.\n",
      "  0.  0.  0.  0.  0.  0.  0.  2.  2.  0. -2. -2. -2.  0.  0. -2. -2. -2.\n",
      " -4. -2.  0.  0.  0.  0.  0.  0.  0.  0.  0.  0. -2. -2. -2.  0.  0.  0.\n",
      "  0.  0. -2. -2.  0.  0.  0.  2.  0.  0.  0.  0.  0. -2. -2. -2. -2.  0.\n",
      "  0.  0.  0.  0. -2. -2. -2.  0.  0.  0.  0.  0.  0.  0. -2. -2. -2. -2.\n",
      " -2.  0.  0.  0.  0.  0.  0.  0.  0.  0.  0.  0.  2.  0.  0.  0.  0.  0.\n",
      "  0.  0.  0.  0. -2.]\n",
      "correct!\n",
      "incorrect!, New weights = [ 0.  0.  0.  0.  0.  0.  0.  0.  0.  0.  0.  0.  0.  0.  0.  0.  0.  0.\n",
      "  0.  0.  0.  0.  0.  0. -1. -1. -1. -1. -1.  1. -1. -1. -1. -1. -1. -1.\n",
      " -1. -1. -1.  0.  0.  0.  0.  0. -1. -1.  1.  1.  1.  1.  1.  1.  1. -1.\n",
      " -1. -1. -1. -1. -1.  0.  0.  0.  0.  0.  1.  1.  1.  1.  1.  1.  1.  1.\n",
      "  1.  1.  1. -1. -1. -1. -1.  0.  0.  0.  0.  2.  1.  1.  1.  1.  1.  1.\n",
      "  1.  1.  1.  1.  1.  1. -1. -1. -1.  0.  0. -2. -2. -1. -2. -2. -2. -2.\n",
      " -2. -2. -2. -2. -2. -2.  0.  0. -2. -1. -1.  0.  0. -2.  0. -1. -1. -1.\n",
      " -1. -1. -1. -1. -1. -1. -1. -1.  1.  1.  1.  0.  0.  0.  0. -2.  0.  1.\n",
      " -1. -1. -1. -1. -1. -1.  1. -1. -1. -1.  1.  1.  1.  0.  0.  0.  0. -2.\n",
      "  2.  1.  1. -1. -1.  1.  1.  1.  1.  1.  1.  1.  1.  1.  1.  0.  0.  0.\n",
      "  0.  1.  1.  0.  0.  0.  0.  0.  0.  0.  0.  0.  0.  0.  2.  0.  1.  2.\n",
      "  0.  0.  0. -5. -1. -2. -2. -2. -2. -2. -2. -2. -2. -2. -2.  0.  2.  2.\n",
      "  1.  0.  0.  0.  0. -5. -3. -2. -4. -2. -2. -2. -2. -2. -2. -2. -2.  0.\n",
      "  2.  2.  1.  0.  0.  0.  0. -5. -3. -4. -4. -2. -2. -2. -2. -2. -2. -2.\n",
      " -2.  0.  2.  2.  1.  0.  0.  0.  0. -3. -3. -2.  0.  0.  0.  0.  0.  0.\n",
      "  0.  0.  0.  2.  2.  2.  1.  0.  0.  0.  0. -2. -2.  0. -2.  0.  0.  0.\n",
      "  0.  0.  0.  0.  0.  2.  2.  2. -2. -2. -2.  0.  0. -2. -2. -2. -2.  0.\n",
      "  0.  0.  0.  0.  0.  0.  0.  2.  2.  0. -2. -2. -2.  0.  0. -2. -2. -2.\n",
      " -4. -2.  0.  0.  0.  0.  0.  0.  0.  0.  0.  0. -2. -2. -2.  0.  0.  0.\n",
      "  0.  0. -2. -2.  0.  0.  0.  2.  0.  0.  0.  0.  0. -2. -2. -2. -2.  0.\n",
      "  0.  0.  0.  0. -2. -2. -2.  0.  0.  0.  0.  0.  0.  0. -2. -2. -2. -2.\n",
      " -2.  0.  0.  0.  0.  0.  0.  0.  0.  0.  0.  0.  2.  0.  0.  0.  0.  0.\n",
      "  0.  0.  0.  0. -3.]\n",
      "correct!\n",
      "correct!\n",
      "correct!\n",
      "correct!\n",
      "incorrect!, New weights = [ 0.  0.  0.  0.  0.  0.  0.  0.  0.  0.  0.  0.  0.  0.  0.  0.  0.  0.\n",
      "  0.  0.  0.  0.  0.  0. -1. -1. -1. -1. -1.  1. -1. -1. -1. -1. -1. -1.\n",
      " -1. -1. -1.  0.  0.  0.  0.  0. -1. -1.  1.  1.  1.  1.  1.  1.  1. -1.\n",
      " -1. -1. -1. -1. -1.  0.  0.  0.  0.  0.  1.  1.  1.  1.  1.  1.  1.  1.\n",
      "  1.  1.  1. -1. -1. -1. -1.  0.  0.  0.  0.  2.  1.  1.  1.  1.  1.  1.\n",
      "  1.  1.  1.  1.  1.  1. -1. -1. -1.  0.  0. -2. -2. -1. -2. -2. -2. -2.\n",
      " -2. -2. -2. -2. -2. -2.  0.  0. -2. -1. -1.  0.  0. -2.  0. -1. -1. -1.\n",
      " -1. -1. -1. -1. -1. -1. -1. -1.  1.  1.  1.  0.  0.  0.  0. -2.  0.  1.\n",
      " -1. -1. -1. -1. -1. -1.  2. -1. -1. -1.  1.  1.  1.  0.  0.  0.  0. -2.\n",
      "  2.  1.  1. -1. -1.  2.  2.  2.  2.  2.  2.  2.  1.  1.  1.  0.  0.  0.\n",
      "  0.  1.  1.  0.  0.  0.  1.  1.  1.  1.  1.  1.  1.  1.  3.  0.  1.  2.\n",
      "  0.  0.  0. -5. -1. -2. -2. -1. -1. -1. -1. -1. -1. -1. -1.  1.  3.  3.\n",
      "  1.  0.  0.  0.  0. -5. -3. -2. -4. -1. -1. -1. -1. -1. -1. -1. -1.  1.\n",
      "  3.  3.  1.  0.  0.  0.  0. -5. -3. -4. -4. -1. -1. -1. -1. -1. -1. -1.\n",
      " -1.  1.  3.  3.  1.  0.  0.  0.  0. -3. -3. -2.  1.  1.  1.  1.  1.  1.\n",
      "  1.  1.  1.  3.  3.  3.  2.  0.  0.  0.  0. -2. -2.  0. -2.  1.  1.  1.\n",
      "  1.  1.  1.  1.  1.  3.  3.  3. -2. -2. -2.  0.  0. -2. -2. -2. -2.  1.\n",
      "  1.  1.  1.  1.  1.  1.  1.  3.  3.  1. -2. -2. -2.  0.  0. -2. -2. -2.\n",
      " -4. -1.  1.  1.  1.  1.  1.  1.  1.  1.  1.  1. -2. -2. -2.  0.  0.  0.\n",
      "  0.  0. -2. -2.  1.  1.  1.  3.  1.  1.  1.  1.  1. -2. -2. -2. -2.  0.\n",
      "  0.  0.  0.  0. -2. -2. -2.  1.  1.  1.  1.  1.  1.  1. -2. -2. -2. -2.\n",
      " -2.  0.  0.  0.  0.  0.  0.  0.  0.  0.  0.  0.  3.  0.  0.  0.  0.  0.\n",
      "  0.  0.  0.  0. -2.]\n",
      "correct!\n",
      "correct!\n",
      "correct!\n",
      "correct!\n",
      "correct!\n",
      "correct!\n",
      "incorrect!, New weights = [ 0.  0.  0.  0.  0.  0.  0.  0.  0.  0.  0.  0.  0.  0.  0.  0.  0.  0.\n",
      "  0.  0.  0.  0.  0.  0. -1. -1. -1. -1. -1.  1. -1. -1. -1. -1. -1. -1.\n",
      " -1. -1. -1.  0.  0.  0.  0.  0. -1. -1.  1.  1.  1.  1.  1.  1.  1. -1.\n",
      " -1. -1. -1. -1. -1.  0.  0.  0.  0.  0.  1.  1.  1.  1.  1.  1.  1.  1.\n",
      "  1.  1.  1. -1. -1. -1. -1.  0.  0.  0.  0.  2.  1.  1.  1.  1.  1.  1.\n",
      "  1.  1.  1.  1.  1.  1. -1. -1. -1.  0.  0. -2. -2. -1. -2. -2. -2. -2.\n",
      " -2. -2. -2. -2. -2. -2.  0.  0. -2. -1. -1.  0.  0. -2.  0. -1. -1. -1.\n",
      " -1. -1. -1. -1. -1. -1. -1. -1.  1.  1.  1.  0.  0.  0.  0. -2.  0.  2.\n",
      " -1. -1. -1. -1. -1. -1.  2. -1. -1. -1.  1.  1.  1.  0.  0.  0.  0. -2.\n",
      "  3.  2.  2. -1. -1.  2.  2.  2.  2.  2.  2.  2.  1.  1.  1.  0.  0.  0.\n",
      "  0.  2.  2.  1.  1.  1.  1.  1.  1.  1.  1.  1.  1.  1.  3.  0.  1.  2.\n",
      "  0.  0.  0. -5.  0. -1. -1. -1. -1. -1. -1. -1. -1. -1. -1.  1.  3.  3.\n",
      "  1.  0.  0.  0.  0. -5. -3. -1. -4. -1. -1. -1. -1. -1. -1. -1. -1.  1.\n",
      "  3.  3.  1.  0.  0.  0.  0. -5. -3. -4. -4. -1. -1. -1. -1. -1. -1. -1.\n",
      " -1.  1.  3.  3.  1.  0.  0.  0.  0. -3. -3. -2.  1.  1.  1.  1.  1.  1.\n",
      "  1.  1.  1.  3.  3.  3.  2.  0.  0.  0.  0. -2. -2.  0. -2.  1.  1.  1.\n",
      "  1.  1.  1.  1.  1.  3.  3.  3. -2. -2. -2.  0.  0. -2. -2. -2. -2.  1.\n",
      "  1.  1.  1.  1.  1.  1.  1.  3.  3.  1. -2. -2. -2.  0.  0. -2. -2. -2.\n",
      " -4. -1.  1.  1.  1.  1.  1.  1.  1.  1.  1.  1. -2. -2. -2.  0.  0.  0.\n",
      "  0.  0. -2. -2.  1.  1.  1.  3.  1.  1.  1.  1.  1. -2. -2. -2. -2.  0.\n",
      "  0.  0.  0.  0. -2. -2. -2.  1.  1.  1.  1.  1.  1.  1. -2. -2. -2. -2.\n",
      " -2.  0.  0.  0.  0.  0.  0.  0.  0.  0.  0.  0.  3.  0.  0.  0.  0.  0.\n",
      "  0.  0.  0.  0. -1.]\n",
      "incorrect!, New weights = [ 0.  0.  0.  0.  0.  0.  0.  0.  0.  0.  0.  0.  0.  0.  0.  0.  0.  0.\n",
      "  0.  0.  0.  0.  0.  0. -1. -1. -1. -1. -1.  1. -1. -1. -1. -1. -1. -1.\n",
      " -1. -1. -1.  0.  0.  0.  0.  0. -1. -1.  1.  2.  1.  1.  1.  1.  1. -1.\n",
      " -1. -1. -1. -1. -1.  0.  0.  0.  0.  0.  1.  2.  2.  2.  2.  2.  1.  1.\n",
      "  1.  1.  1. -1. -1. -1. -1.  0.  0.  0.  0.  2.  2.  2.  2.  2.  2.  2.\n",
      "  2.  1.  1.  1.  1.  1. -1. -1. -1.  0.  0. -2. -2. -1. -1. -1. -1. -1.\n",
      " -1. -1. -1. -2. -2. -2.  0.  0. -2. -1. -1.  0.  0. -2.  0.  0.  0.  0.\n",
      "  0.  0.  0.  0.  0.  0. -1. -1.  1.  1.  1.  0.  0.  0.  0. -2.  0.  2.\n",
      "  0.  0.  0.  0.  0.  0.  3. -1. -1. -1.  1.  1.  1.  0.  0.  0.  0. -2.\n",
      "  3.  2.  3.  0.  0.  3.  3.  3.  3.  2.  2.  2.  1.  1.  1.  0.  0.  0.\n",
      "  0.  2.  2.  1.  1.  2.  2.  2.  2.  2.  1.  1.  1.  1.  3.  0.  1.  2.\n",
      "  0.  0.  0. -5.  0. -1. -1. -1. -1.  0. -1. -1. -1. -1. -1.  1.  3.  3.\n",
      "  1.  0.  0.  0.  0. -5. -3. -1. -4. -1. -1. -1. -1. -1. -1. -1. -1.  1.\n",
      "  3.  3.  1.  0.  0.  0.  0. -5. -3. -4. -4. -1. -1. -1. -1. -1. -1. -1.\n",
      " -1.  1.  3.  3.  1.  0.  0.  0.  0. -3. -3. -2.  1.  1.  1.  1.  1.  1.\n",
      "  1.  1.  1.  3.  3.  3.  2.  0.  0.  0.  0. -2. -2.  0. -2.  1.  1.  1.\n",
      "  1.  1.  1.  1.  1.  3.  3.  3. -2. -2. -2.  0.  0. -2. -2. -2. -2.  1.\n",
      "  1.  1.  1.  1.  1.  1.  1.  3.  3.  1. -2. -2. -2.  0.  0. -2. -2. -2.\n",
      " -4. -1.  1.  1.  1.  1.  1.  1.  1.  1.  1.  1. -2. -2. -2.  0.  0.  0.\n",
      "  0.  0. -2. -2.  1.  1.  1.  3.  1.  1.  1.  1.  1. -2. -2. -2. -2.  0.\n",
      "  0.  0.  0.  0. -2. -2. -2.  1.  1.  1.  1.  1.  1.  1. -2. -2. -2. -2.\n",
      " -2.  0.  0.  0.  0.  0.  0.  0.  0.  0.  0.  0.  3.  0.  0.  0.  0.  0.\n",
      "  0.  0.  0.  0.  0.]\n",
      "incorrect!, New weights = [ 0.  0.  0.  0.  0.  0.  0.  0.  0.  0.  0.  0.  0.  0.  0.  0.  0.  0.\n",
      "  0.  0.  0.  0.  0.  0. -1. -1. -1. -1. -1.  1. -1. -1. -1. -1. -1. -1.\n",
      " -1. -1. -1.  0.  0.  0.  0.  0. -1. -1.  1.  2.  1.  1.  1.  1.  1. -1.\n",
      " -1. -1. -1. -1. -1.  0.  0.  0.  0.  0.  1.  2.  2.  2.  2.  2.  1.  1.\n",
      "  1.  1.  1. -1. -1. -1. -1.  0.  0.  0.  0.  2.  2.  2.  2.  2.  2.  2.\n",
      "  2.  1.  1.  1.  1.  1. -1. -1. -1.  0.  0. -2. -2. -1. -1. -1. -1. -1.\n",
      " -1. -1. -1. -2. -2. -2.  0.  0. -2. -1. -1.  0.  0. -2.  0.  0.  0.  0.\n",
      "  0.  0.  0.  0.  0.  0. -1. -1.  1.  1.  1.  0.  0.  0.  0. -2.  0.  2.\n",
      "  0.  0.  0.  0.  0.  0.  3. -1. -1. -1.  1.  1.  1.  0.  0.  0.  0. -2.\n",
      "  3.  2.  3.  0.  0.  3.  3.  3.  3.  2.  2.  2.  1.  1.  1.  0.  0.  0.\n",
      "  0.  2.  2.  1.  1.  2.  2.  2.  2.  2.  1.  1.  1.  1.  3.  0.  1.  2.\n",
      "  0.  0.  0. -5.  0. -1. -1. -1. -1.  0. -1. -1. -1. -1. -1.  1.  3.  3.\n",
      "  1.  0.  0.  0.  0. -5. -3. -1. -4. -1. -1. -1. -1. -1. -1. -1. -1.  1.\n",
      "  3.  3.  1.  0.  0.  0.  0. -5. -3. -4. -4. -1. -1. -1. -1. -1. -1. -1.\n",
      " -1.  1.  3.  3.  1.  0.  0.  0.  0. -3. -3. -2.  1.  1.  1.  1.  1.  1.\n",
      "  1.  1.  1.  3.  3.  3.  2.  0.  0.  0.  0. -2. -2.  0. -3.  0.  0.  0.\n",
      "  0.  0.  0.  0.  0.  2.  2.  2. -3. -3. -3.  0.  0. -2. -2. -2. -3.  0.\n",
      "  0.  0.  0.  0.  0.  0.  0.  2.  2.  0. -3. -3. -3.  0.  0. -2. -2. -2.\n",
      " -5. -2.  0.  0.  0.  0.  0.  0.  0.  0.  0.  0. -3. -3. -3.  0.  0.  0.\n",
      "  0.  0. -3. -3.  0.  0.  0.  2.  0.  0.  0.  0.  0. -3. -3. -3. -3.  0.\n",
      "  0.  0.  0.  0. -3. -3. -3.  0.  0.  0.  0.  0.  0.  0. -3. -3. -3. -3.\n",
      " -3.  0.  0.  0.  0.  0.  0.  0.  0.  0.  0.  0.  3.  0.  0.  0.  0.  0.\n",
      "  0.  0.  0.  0. -1.]\n",
      "correct!\n",
      "correct!\n",
      "correct!\n",
      "incorrect!, New weights = [ 0.  0.  0.  0.  0.  0.  0.  0.  0.  0.  0.  0.  0.  0.  0.  0.  0.  0.\n",
      "  0.  0.  0.  0.  0.  0. -1. -1. -1. -1. -1.  1. -1. -1. -1. -1. -1. -1.\n",
      " -1. -1. -1.  0.  0.  0.  0.  0. -1. -1.  1.  2.  1.  1.  1.  1.  1. -1.\n",
      " -1. -1. -1. -1. -1.  0.  0.  0.  0.  0.  1.  2.  2.  2.  2.  2.  1.  1.\n",
      "  1.  1.  1. -1. -1. -1. -1.  0.  0.  0.  0.  2.  2.  2.  2.  2.  2.  2.\n",
      "  2.  1.  1.  1.  1.  1. -1. -1. -1.  0.  0. -2. -2. -2. -2. -2. -2. -2.\n",
      " -2. -2. -2. -3. -3. -3. -1. -1. -3. -1. -1.  0.  0. -2.  0. -1. -1. -1.\n",
      " -1. -1. -1. -1. -1. -1. -2. -2.  0.  0.  0.  0.  0.  0.  0. -2.  0.  1.\n",
      " -1. -1. -1. -1. -1. -1.  2. -2. -2. -2.  0.  0.  0.  0.  0.  0.  0. -2.\n",
      "  3.  1.  2. -1. -1.  2.  2.  2.  2.  1.  1.  1.  0.  0.  0.  0.  0.  0.\n",
      "  0.  2.  2.  0.  0.  1.  1.  1.  1.  1.  0.  0.  0.  0.  2. -1.  0.  2.\n",
      "  0.  0.  0. -5.  0. -2. -2. -2. -2. -1. -2. -2. -2. -2. -2.  0.  2.  2.\n",
      "  0.  0.  0.  0.  0. -5. -3. -2. -5. -2. -2. -2. -2. -2. -2. -2. -2.  0.\n",
      "  2.  2.  0.  0.  0.  0.  0. -5. -3. -5. -5. -2. -2. -2. -2. -2. -2. -2.\n",
      " -2.  0.  2.  2.  0.  0.  0.  0.  0. -3. -3. -3.  0.  0.  0.  0.  0.  0.\n",
      "  0.  0.  0.  2.  2.  2.  1.  0.  0.  0.  0. -2. -2.  0. -3.  0.  0.  0.\n",
      "  0.  0.  0.  0.  0.  2.  2.  2. -3. -3. -3.  0.  0. -2. -2. -2. -3.  0.\n",
      "  0.  0.  0.  0.  0.  0.  0.  2.  2.  0. -3. -3. -3.  0.  0. -2. -2. -2.\n",
      " -5. -2.  0.  0.  0.  0.  0.  0.  0.  0.  0.  0. -3. -3. -3.  0.  0.  0.\n",
      "  0.  0. -3. -3.  0.  0.  0.  2.  0.  0.  0.  0.  0. -3. -3. -3. -3.  0.\n",
      "  0.  0.  0.  0. -3. -3. -3.  0.  0.  0.  0.  0.  0.  0. -3. -3. -3. -3.\n",
      " -3.  0.  0.  0.  0.  0.  0.  0.  0.  0.  0.  0.  3.  0.  0.  0.  0.  0.\n",
      "  0.  0.  0.  0. -2.]\n",
      "correct!\n",
      "correct!\n",
      "correct!\n",
      "correct!\n",
      "correct!\n",
      "incorrect!, New weights = [ 0.  0.  0.  0.  0.  0.  0.  0.  0.  0.  0.  0.  0.  0.  0.  0.  0.  0.\n",
      "  0.  0.  0.  0.  0.  0. -1. -1. -1. -1. -1.  1. -1. -1. -1. -1. -1. -1.\n",
      " -1. -1. -1.  0.  0.  0.  0.  0. -1. -1.  1.  2.  1.  1.  1.  1.  1. -1.\n",
      " -1. -1. -1. -1. -1.  0.  0.  0.  0.  0.  1.  2.  2.  2.  2.  2.  1.  1.\n",
      "  1.  1.  1. -1. -1. -1. -1.  0.  0.  0.  0.  2.  2.  2.  2.  2.  2.  2.\n",
      "  2.  1.  1.  1.  1.  1. -1. -1. -1.  0.  0. -2. -2. -2. -2. -2. -2. -2.\n",
      " -2. -2. -2. -3. -3. -3. -1. -1. -3. -1. -1.  0.  0. -2.  0. -1. -1. -1.\n",
      " -1. -1. -1. -1.  0. -1. -2. -2.  0.  0.  0.  0.  0.  0.  0. -2.  0.  1.\n",
      " -1. -1. -1.  0.  0.  0.  3. -1. -1. -1.  0.  0.  0.  0.  0.  0.  0. -2.\n",
      "  3.  1.  2. -1.  0.  3.  3.  3.  3.  2.  2.  2.  1.  0.  0.  0.  0.  0.\n",
      "  0.  2.  2.  0.  0.  2.  2.  2.  2.  2.  1.  1.  1.  1.  3.  0.  0.  2.\n",
      "  0.  0.  0. -5.  0. -2. -2. -1. -1.  0. -1. -1. -1. -1. -1.  1.  3.  3.\n",
      "  0.  0.  0.  0.  0. -5. -3. -2. -5. -1. -1. -1. -1. -1. -1. -1. -1.  1.\n",
      "  3.  3.  0.  0.  0.  0.  0. -5. -3. -5. -4. -1. -1. -1. -1. -1. -1. -1.\n",
      " -1.  1.  3.  3.  1.  0.  0.  0.  0. -3. -3. -3.  0.  1.  1.  1.  1.  1.\n",
      "  1.  1.  1.  3.  3.  3.  1.  0.  0.  0.  0. -2. -2.  0. -3.  1.  1.  1.\n",
      "  1.  1.  1.  1.  1.  3.  3.  3. -3. -3. -3.  0.  0. -2. -2. -2. -3.  1.\n",
      "  1.  1.  1.  1.  1.  1.  1.  3.  3.  1. -3. -3. -3.  0.  0. -2. -2. -2.\n",
      " -5. -2.  1.  1.  1.  1.  1.  1.  1.  1.  1.  0. -3. -3. -3.  0.  0.  0.\n",
      "  0.  0. -3. -3.  0.  1.  1.  3.  1.  1.  1.  1.  0. -3. -3. -3. -3.  0.\n",
      "  0.  0.  0.  0. -3. -3. -3.  0.  0.  0.  1.  0.  0.  0. -3. -3. -3. -3.\n",
      " -3.  0.  0.  0.  0.  0.  0.  0.  0.  0.  0.  0.  3.  0.  0.  0.  0.  0.\n",
      "  0.  0.  0.  0. -1.]\n",
      "correct!\n",
      "correct!\n",
      "correct!\n",
      "correct!\n",
      "correct!\n",
      "correct!\n",
      "correct!\n",
      "correct!\n",
      "correct!\n",
      "correct!\n",
      "correct!\n",
      "correct!\n",
      "incorrect!, New weights = [ 0.  0.  0.  0.  0.  0.  0.  0.  0.  0.  0.  0.  0.  0.  0.  0.  0.  0.\n",
      "  0.  0.  0.  0.  0.  0. -1. -1. -1. -1. -1.  1. -1. -1. -1. -1. -1. -1.\n",
      " -1. -1. -1.  0.  0.  0.  0.  0. -1. -1.  1.  2.  1.  1.  1.  1.  1. -1.\n",
      " -1. -1. -1. -1. -1.  0.  0.  0.  0.  0.  1.  2.  2.  2.  2.  2.  1.  1.\n",
      "  1.  1.  1. -1. -1. -1. -1.  0.  0.  0.  0.  2.  2.  2.  2.  2.  2.  2.\n",
      "  2.  1.  1.  1.  1.  1. -1. -1. -1.  0.  0. -2. -2. -2. -2. -2. -2. -2.\n",
      " -2. -2. -2. -3. -3. -3. -1. -1. -3. -1. -1.  0.  0. -2.  0. -1. -1. -1.\n",
      " -1. -1. -1. -1.  0. -1. -2. -2.  0.  0.  0.  0.  0.  0.  0. -2.  0.  1.\n",
      " -1. -1. -1.  0.  0.  0.  3. -1. -1. -1.  0.  0.  0.  0.  0.  0.  0. -2.\n",
      "  3.  1.  2. -1.  0.  3.  3.  3.  3.  2.  2.  2.  1.  0.  0.  0.  0.  0.\n",
      "  0.  2.  2.  0.  0.  2.  2.  2.  2.  2.  1.  1.  1.  1.  3.  0.  0.  2.\n",
      "  0.  0.  0. -5.  0. -2. -2. -1. -1.  0. -1. -1. -1. -1. -1.  1.  3.  3.\n",
      "  0.  0.  0.  0.  0. -5. -3. -2. -5. -1. -1. -1. -1. -1. -1. -1. -1.  1.\n",
      "  3.  3.  0.  0.  0.  0.  0. -5. -3. -5. -4. -1. -1. -2. -2. -2. -2. -2.\n",
      " -2.  0.  2.  2.  0. -1. -1.  0.  0. -3. -3. -3.  0.  1.  1.  0.  0.  0.\n",
      "  0.  0.  0.  2.  2.  2.  0. -1. -1.  0.  0. -2. -2.  0. -3.  1.  1.  0.\n",
      "  0.  0.  0.  0.  0.  2.  2.  2. -4. -4. -4.  0.  0. -2. -2. -2. -3.  1.\n",
      "  1.  0.  0.  0.  0.  0.  0.  2.  2.  0. -4. -4. -4.  0.  0. -2. -2. -2.\n",
      " -5. -2.  1.  0.  0.  0.  0.  0.  0.  0.  0. -1. -4. -4. -4.  0.  0.  0.\n",
      "  0.  0. -3. -3.  0.  0.  0.  2.  0.  0.  0.  0. -1. -4. -4. -4. -4.  0.\n",
      "  0.  0.  0.  0. -3. -3. -3. -1. -1. -1.  0. -1. -1. -1. -4. -4. -4. -4.\n",
      " -4.  0.  0.  0.  0.  0.  0.  0.  0.  0.  0.  0.  3.  0.  0.  0.  0.  0.\n",
      "  0.  0.  0.  0. -2.]\n",
      "correct!\n",
      "correct!\n",
      "correct!\n",
      "correct!\n",
      "correct!\n",
      "correct!\n",
      "correct!\n",
      "incorrect!, New weights = [ 0.  0.  0.  0.  0.  0.  0.  0.  0.  0.  0.  0.  0.  0.  0.  0.  0.  0.\n",
      "  0.  0.  0.  0.  0.  0. -1. -1. -1. -1. -1.  1. -1. -1. -1. -1. -1. -1.\n",
      " -1. -1. -1.  0.  0.  0.  0.  0. -1. -1.  1.  2.  1.  1.  1.  1.  1. -1.\n",
      " -1. -1. -1. -1. -1.  0.  0.  0.  0.  0.  1.  2.  2.  2.  2.  2.  1.  2.\n",
      "  1.  1.  1. -1. -1. -1. -1.  0.  0.  0.  0.  2.  2.  2.  2.  2.  3.  3.\n",
      "  3.  2.  2.  2.  2.  1. -1. -1. -1.  0.  0. -2. -2. -2. -2. -2. -1. -1.\n",
      " -1. -1. -1. -2. -2. -2.  0.  0. -2. -1. -1.  0.  0. -2.  0. -1. -1.  0.\n",
      "  0.  0.  0.  0.  1.  0. -1. -1.  1.  1.  1.  1.  0.  0.  0. -2.  0.  1.\n",
      " -1.  0.  0.  1.  1.  1.  4.  0.  0.  0.  1.  1.  1.  1.  0.  0.  0. -2.\n",
      "  3.  1.  3.  0.  1.  4.  4.  4.  4.  3.  3.  3.  2.  1.  1.  1.  1.  0.\n",
      "  0.  2.  2.  0.  1.  3.  3.  3.  3.  3.  2.  2.  2.  2.  4.  1.  1.  3.\n",
      "  1.  0.  0. -5.  0. -2. -1.  0.  0.  1.  0.  0.  0.  0.  0.  2.  4.  4.\n",
      "  1.  1.  1.  0.  0. -5. -3. -1. -4.  0.  0.  0.  0.  0.  0.  0.  0.  2.\n",
      "  4.  4.  1.  1.  1.  1.  0. -5. -3. -5. -3.  0.  0. -1. -1. -1. -1. -1.\n",
      " -1.  1.  3.  3.  1.  0.  0.  0.  0. -3. -3. -3.  1.  2.  2.  1.  1.  1.\n",
      "  1.  1.  1.  3.  3.  3.  1.  0.  0.  0.  0. -2. -2.  0. -2.  2.  2.  1.\n",
      "  1.  1.  1.  1.  1.  3.  3.  3. -3. -3. -3.  0.  0. -2. -2. -2. -3.  2.\n",
      "  2.  1.  1.  1.  1.  1.  1.  3.  3.  1. -3. -3. -4.  0.  0. -2. -2. -2.\n",
      " -5. -1.  2.  1.  1.  1.  1.  1.  1.  1.  1.  0. -3. -3. -4.  0.  0.  0.\n",
      "  0.  0. -3. -3.  1.  1.  1.  3.  1.  1.  1.  1.  0. -3. -3. -4. -4.  0.\n",
      "  0.  0.  0.  0. -3. -3. -3. -1.  0.  0.  1.  0.  0.  0. -3. -4. -4. -4.\n",
      " -4.  0.  0.  0.  0.  0.  0.  0.  0.  0.  0.  0.  3.  1.  0.  0.  0.  0.\n",
      "  0.  0.  0.  0. -1.]\n",
      "correct!\n",
      "correct!\n",
      "correct!\n",
      "correct!\n",
      "correct!\n",
      "correct!\n",
      "correct!\n",
      "incorrect!, New weights = [ 0.  0.  0.  0.  0.  0.  0.  0.  0.  0.  0.  0.  0.  0.  0.  0.  0.  0.\n",
      "  0.  0.  0.  0.  0.  0. -2. -2. -2. -2. -2.  0. -2. -2. -2. -2. -2. -2.\n",
      " -2. -2. -2.  0.  0.  0.  0.  0. -2. -2.  0.  1.  0.  0.  0.  0.  0. -2.\n",
      " -2. -2. -2. -2. -2.  0.  0.  0.  0.  0.  0.  1.  1.  1.  1.  1.  0.  1.\n",
      "  0.  0.  0. -2. -2. -2. -2.  0.  0.  0.  0.  2.  1.  1.  1.  1.  2.  2.\n",
      "  2.  1.  1.  1.  1.  0. -2. -2. -2.  0.  0. -2. -2. -2. -3. -3. -2. -2.\n",
      " -2. -2. -2. -3. -3. -3. -1. -1. -3. -2. -2.  0.  0. -2.  0. -1. -1.  0.\n",
      "  0.  0.  0.  0.  1.  0. -1. -1.  1.  1.  1.  1.  0.  0.  0. -2.  0.  1.\n",
      " -1.  0.  0.  1.  1.  1.  4.  0.  0.  0.  1.  1.  1.  1.  0.  0.  0. -2.\n",
      "  3.  1.  3.  0.  1.  4.  4.  4.  4.  3.  3.  3.  2.  1.  1.  1.  1.  0.\n",
      "  0.  2.  2.  0.  1.  3.  3.  3.  3.  3.  2.  2.  2.  2.  4.  1.  1.  3.\n",
      "  1.  0.  0. -5.  0. -2. -1.  0.  0.  1.  0.  0.  0.  0.  0.  2.  4.  4.\n",
      "  1.  1.  1.  0.  0. -5. -3. -1. -4.  0.  0.  0.  0.  0.  0.  0.  0.  2.\n",
      "  4.  4.  1.  1.  1.  1.  0. -5. -3. -5. -3.  0.  0. -1. -1. -1. -1. -1.\n",
      " -1.  1.  3.  3.  1.  0.  0.  0.  0. -3. -3. -3.  1.  2.  2.  1.  1.  1.\n",
      "  1.  1.  1.  3.  3.  3.  1.  0.  0.  0.  0. -2. -2.  0. -2.  2.  2.  1.\n",
      "  1.  1.  1.  1.  1.  3.  3.  3. -3. -3. -3.  0.  0. -2. -2. -2. -3.  2.\n",
      "  2.  1.  1.  1.  1.  1.  1.  3.  3.  1. -3. -3. -4.  0.  0. -2. -2. -2.\n",
      " -5. -1.  2.  1.  1.  1.  1.  1.  1.  1.  1.  0. -3. -3. -4.  0.  0.  0.\n",
      "  0.  0. -3. -3.  1.  1.  1.  3.  1.  1.  1.  1.  0. -3. -3. -4. -4.  0.\n",
      "  0.  0.  0.  0. -3. -3. -3. -1.  0.  0.  1.  0.  0.  0. -3. -4. -4. -4.\n",
      " -4.  0.  0.  0.  0.  0.  0.  0.  0.  0.  0.  0.  3.  1.  0.  0.  0.  0.\n",
      "  0.  0.  0.  0. -2.]\n",
      "incorrect!, New weights = [ 0.  0.  0.  0.  0.  0.  0.  0.  0.  0.  0.  0.  0.  0.  0.  0.  0.  0.\n",
      "  0.  0.  0.  0.  0.  0. -2. -2. -2. -2. -2.  0. -2. -2. -2. -2. -2. -2.\n",
      " -2. -2. -2.  0.  0.  0.  0.  0. -2. -2.  0.  1.  0.  0.  0.  0.  0. -2.\n",
      " -2. -2. -2. -2. -2.  0.  0.  0.  0.  0.  0.  1.  1.  1.  1.  1.  0.  1.\n",
      "  0.  0.  0. -2. -2. -2. -2.  0.  0.  0.  0.  2.  1.  1.  1.  1.  2.  2.\n",
      "  2.  1.  1.  1.  1.  0. -2. -2. -2.  0.  0. -2. -2. -3. -4. -4. -3. -3.\n",
      " -3. -3. -3. -4. -4. -4. -2. -2. -4. -2. -2.  0.  0. -2.  0. -2. -2. -1.\n",
      " -1. -1. -1. -1.  0. -1. -2. -2.  0.  0.  0.  1.  0.  0.  0. -2.  0.  0.\n",
      " -2. -1. -1.  0.  0.  0.  3. -1. -1. -1.  0.  0.  0.  1.  0.  0.  0. -2.\n",
      "  3.  0.  2. -1.  0.  3.  3.  3.  3.  2.  2.  2.  1.  0.  0.  1.  1.  0.\n",
      "  0.  2.  2. -1.  0.  2.  2.  2.  2.  2.  1.  1.  1.  1.  3.  0.  0.  3.\n",
      "  1.  0.  0. -5.  0. -3. -2. -1. -1.  0. -1. -1. -1. -1. -1.  1.  3.  3.\n",
      "  0.  1.  1.  0.  0. -5. -3. -2. -5. -1. -1. -1. -1. -1. -1. -1. -1.  1.\n",
      "  3.  3.  0.  1.  1.  1.  0. -5. -3. -6. -4. -1. -1. -2. -2. -2. -2. -2.\n",
      " -2.  0.  2.  2.  0.  0.  0.  0.  0. -3. -3. -4.  0.  1.  1.  0.  0.  0.\n",
      "  0.  0.  0.  2.  2.  2.  0.  0.  0.  0.  0. -2. -2.  0. -2.  2.  2.  1.\n",
      "  1.  1.  1.  1.  1.  3.  3.  3. -3. -3. -3.  0.  0. -2. -2. -2. -3.  2.\n",
      "  2.  1.  1.  1.  1.  1.  1.  3.  3.  1. -3. -3. -4.  0.  0. -2. -2. -2.\n",
      " -5. -1.  2.  1.  1.  1.  1.  1.  1.  1.  1.  0. -3. -3. -4.  0.  0.  0.\n",
      "  0.  0. -3. -3.  1.  1.  1.  3.  1.  1.  1.  1.  0. -3. -3. -4. -4.  0.\n",
      "  0.  0.  0.  0. -3. -3. -3. -1.  0.  0.  1.  0.  0.  0. -3. -4. -4. -4.\n",
      " -4.  0.  0.  0.  0.  0.  0.  0.  0.  0.  0.  0.  3.  1.  0.  0.  0.  0.\n",
      "  0.  0.  0.  0. -3.]\n",
      "correct!\n",
      "correct!\n",
      "correct!\n",
      "correct!\n",
      "correct!\n",
      "correct!\n",
      "correct!\n",
      "correct!\n",
      "correct!\n",
      "incorrect!, New weights = [ 0.  0.  0.  0.  0.  0.  0.  0.  0.  0.  1.  0.  0.  0.  0.  0.  0.  0.\n",
      "  0.  0.  0.  0.  0.  0. -2. -2. -2. -1. -1.  1. -1. -1. -1. -1. -2. -2.\n",
      " -2. -2. -2.  0.  0.  0.  0.  0. -2. -1.  1.  2.  1.  1.  1.  1.  1. -1.\n",
      " -1. -1. -2. -2. -2.  0.  0.  0.  0.  0.  1.  2.  2.  2.  2.  2.  1.  2.\n",
      "  1.  1.  1. -1. -1. -2. -2.  0.  0.  0.  0.  2.  2.  2.  2.  2.  3.  3.\n",
      "  3.  2.  2.  2.  2.  1. -1. -2. -2.  0.  0. -2. -2. -2. -3. -3. -2. -2.\n",
      " -2. -2. -2. -3. -3. -3. -1. -1. -3. -1. -2.  0.  0. -2.  0. -1. -1.  0.\n",
      "  0.  0.  0.  0.  1.  0. -1. -1.  1.  1.  1.  2.  0.  0.  0. -2.  0.  1.\n",
      " -1.  0.  0.  1.  1.  1.  4.  0.  0.  0.  1.  1.  1.  2.  0.  0.  0. -2.\n",
      "  4.  1.  3.  0.  1.  4.  4.  4.  4.  3.  3.  3.  2.  1.  1.  2.  2.  0.\n",
      "  0.  2.  2.  0.  1.  3.  3.  3.  3.  3.  2.  2.  2.  2.  4.  1.  1.  4.\n",
      "  1.  0.  0. -5.  0. -2. -1.  0.  0.  1.  0.  0.  0.  0.  0.  2.  4.  4.\n",
      "  1.  2.  1.  0.  0. -5. -3. -1. -4.  0.  0.  0.  0.  0.  0.  0.  0.  2.\n",
      "  4.  4.  1.  2.  1.  1.  0. -5. -3. -6. -3.  0.  0. -1. -1. -1. -1. -1.\n",
      " -1.  1.  3.  3.  1.  0.  0.  0.  0. -3. -3. -4.  1.  2.  2.  1.  1.  1.\n",
      "  1.  1.  1.  3.  3.  3.  1.  0.  0.  0.  0. -2. -2.  0. -2.  3.  3.  2.\n",
      "  2.  2.  2.  2.  2.  4.  4.  4. -3. -3. -3.  0.  0. -2. -2. -2. -3.  2.\n",
      "  2.  2.  2.  2.  2.  2.  2.  4.  3.  1. -3. -3. -4.  0.  0. -2. -2. -2.\n",
      " -5. -1.  2.  1.  1.  1.  2.  1.  1.  1.  1.  0. -3. -3. -4.  0.  0.  0.\n",
      "  0.  0. -3. -3.  1.  1.  1.  3.  1.  1.  1.  1.  0. -3. -3. -4. -4.  0.\n",
      "  0.  0.  0.  0. -3. -3. -3. -1.  0.  0.  1.  0.  0.  0. -3. -4. -4. -4.\n",
      " -4.  0.  0.  0.  0.  0.  0.  0.  0.  0.  0.  0.  3.  1.  0.  0.  0.  0.\n",
      "  0.  0.  0.  0. -2.]\n",
      "correct!\n",
      "correct!\n",
      "correct!\n",
      "correct!\n",
      "correct!\n",
      "correct!\n",
      "correct!\n",
      "incorrect!, New weights = [ 0.  0.  0.  0.  0.  0.  0.  0.  0.  0.  1.  0.  0.  0.  0.  0.  0.  0.\n",
      "  0.  0.  0.  0.  0.  0. -2. -2. -2. -1. -1.  1. -1. -1. -1. -1. -2. -2.\n",
      " -2. -2. -2.  0.  0.  0.  0.  0. -2. -1.  1.  2.  1.  1.  1.  1.  1. -1.\n",
      " -1. -1. -2. -2. -2.  0.  0.  0.  0.  0.  1.  2.  2.  2.  2.  2.  1.  2.\n",
      "  1.  1.  1. -1. -1. -2. -2.  0.  0.  0.  0.  2.  2.  2.  2.  2.  3.  3.\n",
      "  3.  2.  2.  2.  2.  1. -1. -2. -2.  0.  0. -2. -2. -3. -4. -4. -3. -3.\n",
      " -3. -3. -3. -4. -4. -4. -2. -2. -4. -1. -2.  0.  0. -2.  0. -2. -2. -1.\n",
      " -1. -1. -1. -1.  0. -1. -2. -2.  0.  0.  0.  2.  0.  0.  0. -2.  0.  0.\n",
      " -2. -1. -1.  0.  0.  0.  3. -1. -1. -1.  0.  0.  0.  2.  0.  0.  0. -2.\n",
      "  4.  0.  2. -1.  0.  3.  3.  3.  3.  2.  2.  2.  1.  0.  0.  2.  2.  0.\n",
      "  0.  2.  2. -1.  0.  2.  2.  2.  2.  2.  1.  1.  1.  1.  3.  0.  0.  4.\n",
      "  1.  0.  0. -5.  0. -3. -2. -1. -1.  0. -1. -1. -1. -1. -1.  1.  3.  3.\n",
      "  0.  2.  1.  0.  0. -5. -3. -2. -5. -1. -1. -1. -1. -1. -1. -1. -1.  1.\n",
      "  3.  3.  0.  2.  1.  1.  0. -5. -3. -7. -4. -1. -1. -2. -2. -2. -2. -2.\n",
      " -2.  0.  2.  2.  0.  0.  0.  0.  0. -3. -3. -5.  0.  1.  1.  0.  0.  0.\n",
      "  0.  0.  0.  2.  2.  2.  0.  0.  0.  0.  0. -2. -2.  0. -2.  3.  3.  2.\n",
      "  2.  2.  2.  2.  2.  4.  4.  4. -3. -3. -3.  0.  0. -2. -2. -2. -3.  2.\n",
      "  2.  2.  2.  2.  2.  2.  2.  4.  3.  1. -3. -3. -4.  0.  0. -2. -2. -2.\n",
      " -5. -1.  2.  1.  1.  1.  2.  1.  1.  1.  1.  0. -3. -3. -4.  0.  0.  0.\n",
      "  0.  0. -3. -3.  1.  1.  1.  3.  1.  1.  1.  1.  0. -3. -3. -4. -4.  0.\n",
      "  0.  0.  0.  0. -3. -3. -3. -1.  0.  0.  1.  0.  0.  0. -3. -4. -4. -4.\n",
      " -4.  0.  0.  0.  0.  0.  0.  0.  0.  0.  0.  0.  3.  1.  0.  0.  0.  0.\n",
      "  0.  0.  0.  0. -3.]\n",
      "correct!\n",
      "correct!\n",
      "correct!\n",
      "correct!\n",
      "correct!\n",
      "correct!\n",
      "correct!\n",
      "correct!\n",
      "correct!\n",
      "correct!\n",
      "correct!\n",
      "correct!\n",
      "correct!\n",
      "correct!\n",
      "correct!\n",
      "correct!\n",
      "correct!\n",
      "correct!\n",
      "correct!\n",
      "correct!\n",
      "correct!\n",
      "correct!\n",
      "correct!\n",
      "correct!\n",
      "correct!\n",
      "correct!\n",
      "correct!\n",
      "correct!\n",
      "correct!\n",
      "correct!\n",
      "correct!\n",
      "correct!\n",
      "correct!\n",
      "correct!\n",
      "correct!\n",
      "correct!\n",
      "correct!\n",
      "correct!\n",
      "correct!\n",
      "correct!\n",
      "correct!\n",
      "correct!\n",
      "correct!\n",
      "correct!\n",
      "correct!\n",
      "correct!\n",
      "correct!\n",
      "correct!\n",
      "correct!\n",
      "correct!\n",
      "correct!\n",
      "correct!\n",
      "correct!\n",
      "correct!\n",
      "correct!\n",
      "correct!\n",
      "correct!\n",
      "correct!\n",
      "correct!\n",
      "correct!\n",
      "correct!\n",
      "correct!\n",
      "correct!\n",
      "correct!\n",
      "correct!\n",
      "correct!\n",
      "correct!\n",
      "correct!\n",
      "correct!\n",
      "correct!\n",
      "correct!\n",
      "correct!\n",
      "correct!\n",
      "correct!\n",
      "correct!\n",
      "correct!\n",
      "correct!\n",
      "correct!\n",
      "correct!\n",
      "correct!\n",
      "correct!\n",
      "correct!\n",
      "correct!\n",
      "correct!\n",
      "correct!\n",
      "correct!\n",
      "correct!\n",
      "correct!\n",
      "correct!\n",
      "correct!\n",
      "correct!\n",
      "correct!\n",
      "correct!\n",
      "correct!\n",
      "correct!\n",
      "correct!\n",
      "correct!\n",
      "correct!\n",
      "correct!\n",
      "correct!\n",
      "correct!\n",
      "correct!\n",
      "correct!\n",
      "correct!\n",
      "correct!\n",
      "correct!\n",
      "correct!\n",
      "correct!\n"
     ]
    },
    {
     "name": "stdout",
     "output_type": "stream",
     "text": [
      "correct!\n",
      "correct!\n",
      "correct!\n",
      "correct!\n",
      "correct!\n",
      "correct!\n",
      "correct!\n",
      "correct!\n",
      "correct!\n",
      "correct!\n",
      "correct!\n"
     ]
    }
   ],
   "source": [
    "for i in range(250):\n",
    "    w = update_nueron(w, X[i%X.shape[0], :], y[i%X.shape[0]])"
   ]
  },
  {
   "cell_type": "markdown",
   "metadata": {},
   "source": [
    "---"
   ]
  },
  {
   "cell_type": "markdown",
   "metadata": {},
   "source": [
    "Alright, now the big one..."
   ]
  },
  {
   "cell_type": "markdown",
   "metadata": {},
   "source": [
    "![](../graphics/NNQ7-01.png)"
   ]
  },
  {
   "cell_type": "markdown",
   "metadata": {},
   "source": [
    "---"
   ]
  },
  {
   "cell_type": "code",
   "execution_count": null,
   "metadata": {
    "collapsed": true
   },
   "outputs": [],
   "source": []
  },
  {
   "cell_type": "code",
   "execution_count": null,
   "metadata": {
    "collapsed": true
   },
   "outputs": [],
   "source": []
  },
  {
   "cell_type": "code",
   "execution_count": null,
   "metadata": {
    "collapsed": true
   },
   "outputs": [],
   "source": []
  },
  {
   "cell_type": "code",
   "execution_count": null,
   "metadata": {
    "collapsed": true
   },
   "outputs": [],
   "source": []
  },
  {
   "cell_type": "code",
   "execution_count": null,
   "metadata": {
    "collapsed": true
   },
   "outputs": [],
   "source": []
  },
  {
   "cell_type": "code",
   "execution_count": null,
   "metadata": {
    "collapsed": true
   },
   "outputs": [],
   "source": []
  },
  {
   "cell_type": "code",
   "execution_count": null,
   "metadata": {
    "collapsed": true
   },
   "outputs": [],
   "source": []
  },
  {
   "cell_type": "code",
   "execution_count": null,
   "metadata": {
    "collapsed": true
   },
   "outputs": [],
   "source": []
  },
  {
   "cell_type": "code",
   "execution_count": null,
   "metadata": {
    "collapsed": true
   },
   "outputs": [],
   "source": []
  },
  {
   "cell_type": "markdown",
   "metadata": {},
   "source": [
    "Ok, so I need to grab PAC from the office, and I'm waiting on the perceptrons book. Broad Strokes: \n",
    "\n",
    "1. Let's try out the perceptron rule for ourselves, maybe make a little in-class exercise and an animation.\n",
    "2. Enjoy some Rosenblatt AI hype\n",
    "3. When could this fail?\n",
    "4. Misnky drops the hammer\n",
    "5. You know, then I would like to cover some Hinton. That would be great! \n",
    "6. Yeah, and then end on Alex Net. I'm definitley fuzzy on post 1970s history, so this will be cool!"
   ]
  },
  {
   "cell_type": "code",
   "execution_count": null,
   "metadata": {
    "collapsed": true
   },
   "outputs": [],
   "source": []
  },
  {
   "cell_type": "code",
   "execution_count": null,
   "metadata": {
    "collapsed": true
   },
   "outputs": [],
   "source": []
  },
  {
   "cell_type": "code",
   "execution_count": null,
   "metadata": {
    "collapsed": true
   },
   "outputs": [],
   "source": []
  },
  {
   "cell_type": "code",
   "execution_count": null,
   "metadata": {
    "collapsed": true
   },
   "outputs": [],
   "source": []
  },
  {
   "cell_type": "code",
   "execution_count": null,
   "metadata": {
    "collapsed": true
   },
   "outputs": [],
   "source": []
  },
  {
   "cell_type": "code",
   "execution_count": null,
   "metadata": {
    "collapsed": true
   },
   "outputs": [],
   "source": []
  },
  {
   "cell_type": "code",
   "execution_count": null,
   "metadata": {
    "collapsed": true
   },
   "outputs": [],
   "source": []
  },
  {
   "cell_type": "markdown",
   "metadata": {},
   "source": [
    "### References"
   ]
  },
  {
   "cell_type": "markdown",
   "metadata": {},
   "source": [
    "1. Crevier, Daniel. AI: the tumultuous history of the search for artificial intelligence. Basic Books, 1993. pages 30-32, 102-107.\n",
    "2. [The Man Who Tried to Redeem the World with Logic](http://nautil.us/issue/21/information/the-man-who-tried-to-redeem-the-world-with-logic). Nautilus.\n",
    "3. Hebb, Donald Olding. \"The first stage of perception: growth of the assembly.\" The Organization of Behavior. Psychology Press, 2005. 102-120."
   ]
  },
  {
   "cell_type": "code",
   "execution_count": null,
   "metadata": {
    "collapsed": true
   },
   "outputs": [],
   "source": []
  }
 ],
 "metadata": {
  "kernelspec": {
   "display_name": "Python 3",
   "language": "python",
   "name": "python3"
  },
  "language_info": {
   "codemirror_mode": {
    "name": "ipython",
    "version": 3
   },
   "file_extension": ".py",
   "mimetype": "text/x-python",
   "name": "python",
   "nbconvert_exporter": "python",
   "pygments_lexer": "ipython3",
   "version": "3.6.3"
  }
 },
 "nbformat": 4,
 "nbformat_minor": 2
}
